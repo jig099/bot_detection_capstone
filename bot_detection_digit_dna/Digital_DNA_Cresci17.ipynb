{
 "cells": [
  {
   "cell_type": "code",
   "execution_count": 1,
   "id": "f174605b",
   "metadata": {},
   "outputs": [],
   "source": [
    "import pandas as pd\n",
    "import numpy as np\n",
    "import matplotlib.pyplot as plt\n",
    "import matplotlib.ticker as ticker\n",
    "import seaborn as sns"
   ]
  },
  {
   "cell_type": "code",
   "execution_count": 2,
   "id": "01b58946",
   "metadata": {},
   "outputs": [],
   "source": [
    "import random\n",
    "import sys\n",
    "import time\n",
    "import zlib"
   ]
  },
  {
   "cell_type": "code",
   "execution_count": 3,
   "id": "3288fba8",
   "metadata": {},
   "outputs": [],
   "source": [
    "from sklearn import utils\n",
    "from sklearn.linear_model import LogisticRegression\n",
    "from sklearn.ensemble import RandomForestClassifier\n",
    "from sklearn.ensemble import GradientBoostingClassifier\n",
    "from sklearn.model_selection import train_test_split\n",
    "from sklearn.metrics import accuracy_score, precision_score, recall_score, f1_score, matthews_corrcoef, confusion_matrix\n",
    "from scipy.stats import ttest_1samp"
   ]
  },
  {
   "cell_type": "markdown",
   "id": "f5064796",
   "metadata": {},
   "source": [
    "#### Datasets"
   ]
  },
  {
   "cell_type": "code",
   "execution_count": 4,
   "id": "076bbe1c",
   "metadata": {},
   "outputs": [],
   "source": [
    "### Users\n",
    "path = '../../bot-dna-compression/datasets_full.csv/datasets_full.csv/'\n",
    "# Genuine accounts.\n",
    "gen = pd.read_csv(path+'genuine_accounts.csv/users.csv')\n",
    "\n",
    "# Social spambots.\n",
    "ss1 = pd.read_csv(path+'social_spambots_1.csv/users.csv')\n",
    "ss2 = pd.read_csv(path+'social_spambots_2.csv/users.csv')\n",
    "ss3 = pd.read_csv(path+'social_spambots_3.csv/users.csv')\n",
    "\n",
    "# Traditional spambots.\n",
    "ts1 = pd.read_csv(path+'traditional_spambots_1.csv/users.csv')\n",
    "ts2 = pd.read_csv(path+'traditional_spambots_2.csv/users.csv')\n",
    "ts3 = pd.read_csv(path+'traditional_spambots_3.csv/users.csv')\n",
    "ts4 = pd.read_csv(path+'traditional_spambots_4.csv/users.csv')"
   ]
  },
  {
   "cell_type": "code",
   "execution_count": 5,
   "id": "2e0ffe81",
   "metadata": {},
   "outputs": [
    {
     "name": "stderr",
     "output_type": "stream",
     "text": [
      "/usr/local/lib/python3.9/site-packages/IPython/core/interactiveshell.py:3441: DtypeWarning: Columns (0) have mixed types.Specify dtype option on import or set low_memory=False.\n",
      "  exec(code_obj, self.user_global_ns, self.user_ns)\n",
      "/usr/local/lib/python3.9/site-packages/IPython/core/interactiveshell.py:3441: DtypeWarning: Columns (10) have mixed types.Specify dtype option on import or set low_memory=False.\n",
      "  exec(code_obj, self.user_global_ns, self.user_ns)\n",
      "/usr/local/lib/python3.9/site-packages/IPython/core/interactiveshell.py:3441: DtypeWarning: Columns (7,10) have mixed types.Specify dtype option on import or set low_memory=False.\n",
      "  exec(code_obj, self.user_global_ns, self.user_ns)\n"
     ]
    }
   ],
   "source": [
    "### Tweets\n",
    "# Genuine accounts.\n",
    "gen_tweets = pd.read_csv(path+'genuine_accounts.csv/tweets.csv', sep=\",\",encoding=\"latin-1\")\n",
    "\n",
    "# Social spambots.\n",
    "ss1_tweets = pd.read_csv(path+'social_spambots_1.csv/tweets.csv', sep=\",\",encoding=\"latin-1\")\n",
    "ss2_tweets = pd.read_csv(path+'social_spambots_2.csv/tweets.csv', sep=\",\",encoding=\"latin-1\")\n",
    "ss3_tweets = pd.read_csv(path+'social_spambots_3.csv/tweets.csv', sep=\",\",encoding=\"latin-1\")\n",
    "\n",
    "# Traditional spambots.\n",
    "ts1_tweets = pd.read_csv(path+'traditional_spambots_1.csv/tweets.csv',sep=\",\",encoding=\"latin-1\")"
   ]
  },
  {
   "cell_type": "markdown",
   "id": "aaa0e16c",
   "metadata": {},
   "source": [
    "#### Digital DNA"
   ]
  },
  {
   "cell_type": "code",
   "execution_count": 6,
   "id": "fde528fb",
   "metadata": {},
   "outputs": [],
   "source": [
    "def create_dna_from_tweets(tweets_df):\n",
    "    '''For each user id in tweets_df return a digital DNA string based on posting behaviour.'''\n",
    "    \n",
    "    # Add columns for counts of tweets, replies and retweets.\n",
    "    tweets_df['num_retweets'] = np.where(tweets_df['retweeted_status_id'] == 0, 0, 1)\n",
    "    tweets_df['num_replies'] = np.where(tweets_df['in_reply_to_status_id'] == 0, 0, 1)\n",
    "    tweets_df['num_tweets'] = np.where((tweets_df['num_retweets'] == 0) & (tweets_df['num_replies'] == 0), 1, 0)\n",
    "\n",
    "    # DNA alphabet for tweet (A), retweet (C) and reply (T).\n",
    "    tweets = tweets_df['num_tweets'] == 1\n",
    "    retweets = tweets_df['num_retweets'] == 1\n",
    "    replies = tweets_df['num_replies'] == 1\n",
    "\n",
    "    tweets_df.loc[:, 'DNA'] = np.where(retweets, 'C', np.where(replies, 'T', 'A'))\n",
    "\n",
    "    # Sort tweets by timestamp..\n",
    "    tweets_df = tweets_df[['user_id', 'timestamp', 'DNA']]\n",
    "    tweets_df = tweets_df.sort_values(by=['timestamp'])\n",
    "\n",
    "    # Create digital DNA string for each user account.\n",
    "    dna = tweets_df.groupby(by=['user_id'])['DNA'].agg(lambda x: ''.join(x))\n",
    "    \n",
    "    return dna"
   ]
  },
  {
   "cell_type": "code",
   "execution_count": 7,
   "id": "7d5225dd",
   "metadata": {},
   "outputs": [],
   "source": [
    "def compress_dna_df(dna):\n",
    "    '''Return a dataframe with compression facts for a series of dna.'''\n",
    "\n",
    "    # Convert DNA in string object to bytes object.\n",
    "    dna_bytes = dna.apply(lambda s: s.encode('utf-8'))\n",
    "\n",
    "    # Run compression on each DNA string in the sample.\n",
    "    dna_compressed = dna_bytes.apply(lambda b: zlib.compress(b))\n",
    "\n",
    "    # Create dataframe with compression facts.\n",
    "    dna_df = pd.DataFrame({'dna': dna,\n",
    "                           'original_dna_size': dna_bytes.apply(sys.getsizeof), \n",
    "                           'compressed_dna_size': dna_compressed.apply(sys.getsizeof)})\n",
    "    \n",
    "    dna_df['compression_ratio'] = dna_df['original_dna_size'] / dna_df['compressed_dna_size']\n",
    "    \n",
    "    return dna_df"
   ]
  },
  {
   "cell_type": "code",
   "execution_count": 8,
   "id": "df7e65ed",
   "metadata": {},
   "outputs": [],
   "source": [
    "gen_dna = create_dna_from_tweets(gen_tweets)\n",
    "\n",
    "ss1_dna = create_dna_from_tweets(ss1_tweets)\n",
    "ss2_dna = create_dna_from_tweets(ss2_tweets)\n",
    "ss3_dna = create_dna_from_tweets(ss3_tweets)\n",
    "\n",
    "ts1_dna = create_dna_from_tweets(ts1_tweets)"
   ]
  },
  {
   "cell_type": "code",
   "execution_count": 9,
   "id": "68dc0ac8",
   "metadata": {},
   "outputs": [],
   "source": [
    "gen_dna = compress_dna_df(gen_dna)\n",
    "\n",
    "ss1_dna = compress_dna_df(ss1_dna)\n",
    "ss2_dna = compress_dna_df(ss2_dna)\n",
    "ss3_dna = compress_dna_df(ss3_dna)\n",
    "\n",
    "ts1_dna = compress_dna_df(ts1_dna)\n",
    "\n",
    "bot_dna = pd.concat([ss1_dna, ss2_dna, ss3_dna,ts1_dna])"
   ]
  },
  {
   "cell_type": "code",
   "execution_count": 10,
   "id": "878a610b",
   "metadata": {},
   "outputs": [],
   "source": [
    "# Add a column for account type to the dataframes.\n",
    "gen_dna['Account Type'] = 'Genuine'\n",
    "bot_dna['Account Type'] = 'Bot'\n",
    "\n",
    "# Combine all samples into a single dataframe.\n",
    "all_dna = pd.concat([gen_dna, bot_dna])"
   ]
  },
  {
   "cell_type": "markdown",
   "id": "69857789",
   "metadata": {},
   "source": [
    "#### Compression statistics "
   ]
  },
  {
   "cell_type": "code",
   "execution_count": 11,
   "id": "ecce4ae4",
   "metadata": {},
   "outputs": [],
   "source": [
    "# Filter genuine accounts and bot accounts to compute statistics for each group.\n",
    "g = all_dna['Account Type'] == 'Genuine'\n",
    "b = all_dna['Account Type'] == 'Bot'"
   ]
  },
  {
   "cell_type": "code",
   "execution_count": 12,
   "id": "6480c628",
   "metadata": {},
   "outputs": [],
   "source": [
    "\n",
    "compression_stats = pd.DataFrame({'Mean Length': [all_dna['dna'].apply(len).mean(), \n",
    "                                                  all_dna[g]['dna'].apply(len).mean(), \n",
    "                                                  all_dna[b]['dna'].apply(len).mean()],\n",
    "                                  'SD Length': [all_dna['dna'].apply(len).std(), \n",
    "                                                all_dna[g]['dna'].apply(len).std(), \n",
    "                                                all_dna[b]['dna'].apply(len).std()],\n",
    "                                  'Mean Uncompressed Size': [all_dna['original_dna_size'].mean(), \n",
    "                                                             all_dna[g]['original_dna_size'].mean(), \n",
    "                                                             all_dna[b]['original_dna_size'].mean()],\n",
    "                                  'SD Uncompressed Size': [all_dna['original_dna_size'].std(), \n",
    "                                                            all_dna[g]['original_dna_size'].std(), \n",
    "                                                           all_dna[b]['original_dna_size'].std()],\n",
    "                                  'Mean Compressed Size': [all_dna['compressed_dna_size'].mean(), \n",
    "                                                           all_dna[g]['compressed_dna_size'].mean(), \n",
    "                                                           all_dna[b]['compressed_dna_size'].mean()],\n",
    "                                  'SD Compressed Size': [all_dna['compressed_dna_size'].std(), \n",
    "                                                         all_dna[g]['compressed_dna_size'].std(), \n",
    "                                                         all_dna[b]['compressed_dna_size'].std()],\n",
    "                                  'Mean Compressio Ratio': [all_dna['compression_ratio'].mean(), \n",
    "                                                            all_dna[g]['compression_ratio'].mean(), \n",
    "                                                            all_dna[b]['compression_ratio'].mean()],\n",
    "                                  'SD Compressio Ratio': [all_dna['compression_ratio'].std(), \n",
    "                                                          all_dna[g]['compression_ratio'].std(), \n",
    "                                                          all_dna[b]['compression_ratio'].std()]},\n",
    "                                 index=['All', 'Genuine', 'Bot']).round"
   ]
  },
  {
   "cell_type": "markdown",
   "id": "467bba5a",
   "metadata": {},
   "source": [
    "####  Compression statistics visualization"
   ]
  },
  {
   "cell_type": "code",
   "execution_count": 13,
   "id": "98787946",
   "metadata": {},
   "outputs": [
    {
     "name": "stderr",
     "output_type": "stream",
     "text": [
      "/usr/local/lib/python3.9/site-packages/seaborn/axisgrid.py:337: UserWarning: The `size` parameter has been renamed to `height`; please update your code.\n",
      "  warnings.warn(msg, UserWarning)\n"
     ]
    },
    {
     "data": {
      "image/png": "[encoded data removed]",
      "text/plain": [
       "<Figure size 504x504 with 1 Axes>"
      ]
     },
     "metadata": {},
     "output_type": "display_data"
    }
   ],
   "source": [
    "sns.set_style(\"white\")\n",
    "\n",
    "pal = {\n",
    "    'Genuine': sns.color_palette('Dark2')[0],\n",
    "    'Bot':  sns.color_palette('Dark2')[1]\n",
    "}\n",
    "\n",
    "g = sns.FacetGrid(all_dna, hue='Account Type', palette=pal, size=7, hue_kws=dict(marker=[\"^\", \".\"]))\n",
    "g.map(plt.scatter, \"original_dna_size\", \"compression_ratio\", s=100, alpha=.85, edgecolor=\"white\")\n",
    "g.set_axis_labels('Original DNA Size', 'Compression Ratio')\n",
    "plt.legend(loc='upper left', frameon=False,labels=['Genuine User', 'Bot Account'])\n",
    "g.savefig('cresci_scatter.svg')"
   ]
  },
  {
   "cell_type": "code",
   "execution_count": 14,
   "id": "3b42321d",
   "metadata": {},
   "outputs": [
    {
     "name": "stderr",
     "output_type": "stream",
     "text": [
      "/usr/local/lib/python3.9/site-packages/seaborn/axisgrid.py:337: UserWarning: The `size` parameter has been renamed to `height`; please update your code.\n",
      "  warnings.warn(msg, UserWarning)\n"
     ]
    },
    {
     "data": {
      "image/png": "[encoded data removed]",
      "text/plain": [
       "<Figure size 432x432 with 1 Axes>"
      ]
     },
     "metadata": {},
     "output_type": "display_data"
    }
   ],
   "source": [
    "\n",
    "g = sns.FacetGrid(all_dna, hue='Account Type', palette=pal, size=6)\n",
    "g.set(xlim=(0, 75))\n",
    "g.map(sns.kdeplot, 'compression_ratio')\n",
    "# g.add_legend()\n",
    "plt.legend(loc='upper right', frameon=False)\n",
    "g.savefig('cresci_KDE.svg')"
   ]
  },
  {
   "cell_type": "code",
   "execution_count": 15,
   "id": "db8333dd",
   "metadata": {},
   "outputs": [],
   "source": [
    "def evaluate(y_test, predictions):\n",
    "    '''Return a dataframe with accuracy, precision, recall and f1 scores for predictions.'''\n",
    "    \n",
    "    tn, fp, fn, tp = confusion_matrix(y_test, predictions).ravel()\n",
    "    specificity = tn / (tn+fp)\n",
    "    \n",
    "    results = [\n",
    "        {\n",
    "            'Metric': 'Accuracy',\n",
    "            'Score': accuracy_score(y_test, predictions)\n",
    "        },\n",
    "        {\n",
    "            'Metric': 'Precision',\n",
    "            'Score': precision_score(y_test, predictions)\n",
    "        },\n",
    "        {\n",
    "            'Metric': 'Recall',\n",
    "            'Score': recall_score(y_test, predictions)\n",
    "        },\n",
    "        {\n",
    "            'Metric': 'F1 Score',\n",
    "            'Score': f1_score(y_test, predictions)\n",
    "        },\n",
    "        {\n",
    "            'Metric': 'MCC',\n",
    "            'Score': matthews_corrcoef(y_test, predictions)\n",
    "        },\n",
    "        {\n",
    "            'Metric': 'Specificity',\n",
    "            'Score': specificity\n",
    "        },\n",
    "    ]\n",
    "\n",
    "    return pd.DataFrame(results)"
   ]
  },
  {
   "cell_type": "code",
   "execution_count": 21,
   "id": "b3790570",
   "metadata": {},
   "outputs": [],
   "source": [
    "def train_predict_evaluate(classifier, dna, features, test_size=0.3):\n",
    "    '''Train a Logistic Regression model with given features\n",
    "    using default parameters on a random sample of data.'''\n",
    "\n",
    "    # Randomly shuffle the dna dataframe.\n",
    "    dna = utils.shuffle(dna)\n",
    "\n",
    "    # Features and labels.\n",
    "    X = dna[features]\n",
    "    y = dna.loc[:, 'label']\n",
    "\n",
    "    # Split the dataset for training and testing using Logistic Regression.\n",
    "    X_train, X_test, y_train, y_test = train_test_split(X, y, test_size=test_size)\n",
    "\n",
    "    # Train the classifier.\n",
    "    start_train = time.time()\n",
    "    classifier.fit(X_train, y_train)\n",
    "    end_train = time.time()\n",
    "\n",
    "    # Make predictions on the test set.\n",
    "    start_test = time.time()\n",
    "    predictions = classifier.predict(X_test)\n",
    "    end_test = time.time()\n",
    "\n",
    "    # Evaluation on the test set.\n",
    "    results = evaluate(y_test, predictions)\n",
    "\n",
    "    return results"
   ]
  },
  {
   "cell_type": "code",
   "execution_count": 25,
   "id": "4c254dc8",
   "metadata": {},
   "outputs": [
    {
     "name": "stderr",
     "output_type": "stream",
     "text": [
      "<ipython-input-6-e60acc576c99>:5: SettingWithCopyWarning: \n",
      "A value is trying to be set on a copy of a slice from a DataFrame.\n",
      "Try using .loc[row_indexer,col_indexer] = value instead\n",
      "\n",
      "See the caveats in the documentation: https://pandas.pydata.org/pandas-docs/stable/user_guide/indexing.html#returning-a-view-versus-a-copy\n",
      "  tweets_df['num_retweets'] = np.where(tweets_df['retweeted_status_id'] == 0, 0, 1)\n",
      "<ipython-input-6-e60acc576c99>:6: SettingWithCopyWarning: \n",
      "A value is trying to be set on a copy of a slice from a DataFrame.\n",
      "Try using .loc[row_indexer,col_indexer] = value instead\n",
      "\n",
      "See the caveats in the documentation: https://pandas.pydata.org/pandas-docs/stable/user_guide/indexing.html#returning-a-view-versus-a-copy\n",
      "  tweets_df['num_replies'] = np.where(tweets_df['in_reply_to_status_id'] == 0, 0, 1)\n",
      "<ipython-input-6-e60acc576c99>:7: SettingWithCopyWarning: \n",
      "A value is trying to be set on a copy of a slice from a DataFrame.\n",
      "Try using .loc[row_indexer,col_indexer] = value instead\n",
      "\n",
      "See the caveats in the documentation: https://pandas.pydata.org/pandas-docs/stable/user_guide/indexing.html#returning-a-view-versus-a-copy\n",
      "  tweets_df['num_tweets'] = np.where((tweets_df['num_retweets'] == 0) & (tweets_df['num_replies'] == 0), 1, 0)\n",
      "/usr/local/lib/python3.9/site-packages/pandas/core/indexing.py:1773: SettingWithCopyWarning: \n",
      "A value is trying to be set on a copy of a slice from a DataFrame.\n",
      "Try using .loc[row_indexer,col_indexer] = value instead\n",
      "\n",
      "See the caveats in the documentation: https://pandas.pydata.org/pandas-docs/stable/user_guide/indexing.html#returning-a-view-versus-a-copy\n",
      "  self._setitem_single_column(ilocs[0], value, pi)\n"
     ]
    }
   ],
   "source": [
    "# Genuine accounts in test set 1.\n",
    "gen_test1 = gen[gen['test_set_1'] == 1]\n",
    "\n",
    "# Social spambots in test set 1.\n",
    "ss1_test_1 = ss1[ss1['test_set_1'] == 1]\n",
    "\n",
    "\n",
    "# Tweets for genuine accounts in test set 1.\n",
    "gen_tweets_test1 = gen_tweets[gen_tweets['user_id'].isin(gen_test1['id'])]\n",
    "\n",
    "# Tweets for spambot accounts in test set 1.\n",
    "ss1_tweets_test1 = ss1_tweets[ss1_tweets['user_id'].isin(ss1_test_1['id'])]\n",
    "\n",
    "\n",
    "# DNA for genuine accounts in test set 1.\n",
    "gen_dna_test1 = create_dna_from_tweets(gen_tweets_test1)\n",
    "\n",
    "# DNA for spambots in test set 1.\n",
    "ss1_dna_test1 = create_dna_from_tweets(ss1_tweets_test1)\n",
    "\n",
    "\n",
    "# DNA string compression for genuine accounts in test set 1.\n",
    "gen_dna_test1 = compress_dna_df(gen_dna_test1)\n",
    "\n",
    "# DNA string compression for spambots in test set 1.\n",
    "ss1_dna_test1 = compress_dna_df(ss1_dna_test1)\n",
    "\n",
    "\n",
    "# Add a column for label to the dataframes.\n",
    "gen_dna_test1['label'] = 0\n",
    "ss1_dna_test1['label'] = 1"
   ]
  },
  {
   "cell_type": "code",
   "execution_count": 26,
   "id": "734fd40c",
   "metadata": {},
   "outputs": [],
   "source": [
    "gen_with_no_tweets_test1 = gen_test1[~gen_test1['id'].isin(gen_dna_test1.index)]\n",
    "\n",
    "gen_with_no_tweets_dna_test1 = pd.DataFrame({'id': gen_with_no_tweets_test1['id'], \n",
    "                                             'original_dna_size': 33, \n",
    "                                             'compressed_dna_size': 41, \n",
    "                                             'compression_ratio': 0.80, \n",
    "                                             'label': 0})\n",
    "\n",
    "gen_with_no_tweets_dna_test1 = gen_with_no_tweets_dna_test1.set_index('id')\n",
    "\n",
    "gen_dna_test1 = pd.concat([gen_dna_test1, gen_with_no_tweets_dna_test1])\n",
    "\n",
    "# Combine test set 1 accounts into a single dataframe.\n",
    "dna_test1 = pd.concat([gen_dna_test1, ss1_dna_test1])"
   ]
  },
  {
   "cell_type": "code",
   "execution_count": 27,
   "id": "70f5aa10",
   "metadata": {},
   "outputs": [
    {
     "data": {
      "text/html": [
       "<div>\n",
       "<style scoped>\n",
       "    .dataframe tbody tr th:only-of-type {\n",
       "        vertical-align: middle;\n",
       "    }\n",
       "\n",
       "    .dataframe tbody tr th {\n",
       "        vertical-align: top;\n",
       "    }\n",
       "\n",
       "    .dataframe thead th {\n",
       "        text-align: right;\n",
       "    }\n",
       "</style>\n",
       "<table border=\"1\" class=\"dataframe\">\n",
       "  <thead>\n",
       "    <tr style=\"text-align: right;\">\n",
       "      <th></th>\n",
       "      <th>Metric</th>\n",
       "      <th>Score</th>\n",
       "    </tr>\n",
       "  </thead>\n",
       "  <tbody>\n",
       "    <tr>\n",
       "      <th>0</th>\n",
       "      <td>Accuracy</td>\n",
       "      <td>0.991639</td>\n",
       "    </tr>\n",
       "    <tr>\n",
       "      <th>1</th>\n",
       "      <td>Precision</td>\n",
       "      <td>1.000000</td>\n",
       "    </tr>\n",
       "    <tr>\n",
       "      <th>2</th>\n",
       "      <td>Recall</td>\n",
       "      <td>0.982014</td>\n",
       "    </tr>\n",
       "    <tr>\n",
       "      <th>3</th>\n",
       "      <td>F1 Score</td>\n",
       "      <td>0.990926</td>\n",
       "    </tr>\n",
       "    <tr>\n",
       "      <th>4</th>\n",
       "      <td>MCC</td>\n",
       "      <td>0.983314</td>\n",
       "    </tr>\n",
       "    <tr>\n",
       "      <th>5</th>\n",
       "      <td>Specificity</td>\n",
       "      <td>1.000000</td>\n",
       "    </tr>\n",
       "  </tbody>\n",
       "</table>\n",
       "</div>"
      ],
      "text/plain": [
       "        Metric     Score\n",
       "0     Accuracy  0.991639\n",
       "1    Precision  1.000000\n",
       "2       Recall  0.982014\n",
       "3     F1 Score  0.990926\n",
       "4          MCC  0.983314\n",
       "5  Specificity  1.000000"
      ]
     },
     "execution_count": 27,
     "metadata": {},
     "output_type": "execute_result"
    }
   ],
   "source": [
    "rf_classifier = RandomForestClassifier(bootstrap=True,max_depth=5)\n",
    "train_predict_evaluate(rf_classifier,dna_test1,['original_dna_size', 'compressed_dna_size'])"
   ]
  },
  {
   "cell_type": "code",
   "execution_count": 29,
   "id": "592ddbb5",
   "metadata": {},
   "outputs": [
    {
     "data": {
      "text/html": [
       "<div>\n",
       "<style scoped>\n",
       "    .dataframe tbody tr th:only-of-type {\n",
       "        vertical-align: middle;\n",
       "    }\n",
       "\n",
       "    .dataframe tbody tr th {\n",
       "        vertical-align: top;\n",
       "    }\n",
       "\n",
       "    .dataframe thead th {\n",
       "        text-align: right;\n",
       "    }\n",
       "</style>\n",
       "<table border=\"1\" class=\"dataframe\">\n",
       "  <thead>\n",
       "    <tr style=\"text-align: right;\">\n",
       "      <th></th>\n",
       "      <th>Metric</th>\n",
       "      <th>Score</th>\n",
       "    </tr>\n",
       "  </thead>\n",
       "  <tbody>\n",
       "    <tr>\n",
       "      <th>0</th>\n",
       "      <td>Accuracy</td>\n",
       "      <td>0.981605</td>\n",
       "    </tr>\n",
       "    <tr>\n",
       "      <th>1</th>\n",
       "      <td>Precision</td>\n",
       "      <td>0.979592</td>\n",
       "    </tr>\n",
       "    <tr>\n",
       "      <th>2</th>\n",
       "      <td>Recall</td>\n",
       "      <td>0.982935</td>\n",
       "    </tr>\n",
       "    <tr>\n",
       "      <th>3</th>\n",
       "      <td>F1 Score</td>\n",
       "      <td>0.981261</td>\n",
       "    </tr>\n",
       "    <tr>\n",
       "      <th>4</th>\n",
       "      <td>MCC</td>\n",
       "      <td>0.963204</td>\n",
       "    </tr>\n",
       "    <tr>\n",
       "      <th>5</th>\n",
       "      <td>Specificity</td>\n",
       "      <td>0.980328</td>\n",
       "    </tr>\n",
       "  </tbody>\n",
       "</table>\n",
       "</div>"
      ],
      "text/plain": [
       "        Metric     Score\n",
       "0     Accuracy  0.981605\n",
       "1    Precision  0.979592\n",
       "2       Recall  0.982935\n",
       "3     F1 Score  0.981261\n",
       "4          MCC  0.963204\n",
       "5  Specificity  0.980328"
      ]
     },
     "execution_count": 29,
     "metadata": {},
     "output_type": "execute_result"
    }
   ],
   "source": [
    "train_predict_evaluate(rf_classifier,dna_test1,['original_dna_size', 'compression_ratio'])"
   ]
  },
  {
   "cell_type": "code",
   "execution_count": 31,
   "id": "45cd2cb3",
   "metadata": {},
   "outputs": [
    {
     "ename": "NameError",
     "evalue": "name 'GradientBoostingClassifier' is not defined",
     "output_type": "error",
     "traceback": [
      "\u001b[0;31m---------------------------------------------------------------------------\u001b[0m",
      "\u001b[0;31mNameError\u001b[0m                                 Traceback (most recent call last)",
      "\u001b[0;32m<ipython-input-31-4e9f918bef56>\u001b[0m in \u001b[0;36m<module>\u001b[0;34m\u001b[0m\n\u001b[0;32m----> 1\u001b[0;31m gb_classifier = GradientBoostingClassifier(n_estimators=100, learning_rate=1.0,\n\u001b[0m\u001b[1;32m      2\u001b[0m     max_depth=1, random_state=0)\n",
      "\u001b[0;31mNameError\u001b[0m: name 'GradientBoostingClassifier' is not defined"
     ]
    }
   ],
   "source": [
    "\n",
    "gb_classifier = GradientBoostingClassifier(n_estimators=100, learning_rate=1.0,\n",
    "    max_depth=1, random_state=0)\n"
   ]
  },
  {
   "cell_type": "code",
   "execution_count": 30,
   "id": "a8f48192",
   "metadata": {},
   "outputs": [
    {
     "ename": "NameError",
     "evalue": "name 'gb_classifier' is not defined",
     "output_type": "error",
     "traceback": [
      "\u001b[0;31m---------------------------------------------------------------------------\u001b[0m",
      "\u001b[0;31mNameError\u001b[0m                                 Traceback (most recent call last)",
      "\u001b[0;32m<ipython-input-30-e9ed45310273>\u001b[0m in \u001b[0;36m<module>\u001b[0;34m\u001b[0m\n\u001b[0;32m----> 1\u001b[0;31m \u001b[0mtrain_predict_evaluate\u001b[0m\u001b[0;34m(\u001b[0m\u001b[0mgb_classifier\u001b[0m\u001b[0;34m,\u001b[0m\u001b[0mds\u001b[0m\u001b[0;34m,\u001b[0m\u001b[0;34m[\u001b[0m\u001b[0;34m'original_dna_size'\u001b[0m\u001b[0;34m,\u001b[0m \u001b[0;34m'compressed_dna_size'\u001b[0m\u001b[0;34m]\u001b[0m\u001b[0;34m)\u001b[0m\u001b[0;34m\u001b[0m\u001b[0;34m\u001b[0m\u001b[0m\n\u001b[0m",
      "\u001b[0;31mNameError\u001b[0m: name 'gb_classifier' is not defined"
     ]
    }
   ],
   "source": [
    "train_predict_evaluate(gb_classifier,ds,['original_dna_size', 'compressed_dna_size'])"
   ]
  },
  {
   "cell_type": "code",
   "execution_count": null,
   "id": "63167700",
   "metadata": {},
   "outputs": [],
   "source": []
  }
 ],
 "metadata": {
  "kernelspec": {
   "display_name": "Python 3",
   "language": "python",
   "name": "python3"
  },
  "language_info": {
   "codemirror_mode": {
    "name": "ipython",
    "version": 3
   },
   "file_extension": ".py",
   "mimetype": "text/x-python",
   "name": "python",
   "nbconvert_exporter": "python",
   "pygments_lexer": "ipython3",
   "version": "3.9.9"
  }
 },
 "nbformat": 4,
 "nbformat_minor": 5
}
