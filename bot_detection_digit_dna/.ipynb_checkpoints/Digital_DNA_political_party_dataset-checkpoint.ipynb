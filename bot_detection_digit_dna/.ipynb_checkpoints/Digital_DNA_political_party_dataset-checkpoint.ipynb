{
 "cells": [
  {
   "cell_type": "markdown",
   "metadata": {},
   "source": [
    "Digital DNA\n",
    "Model account behaviour by defining the following alphabet, of cardinality N = 3,\n",
    "\n",
    "$B^3_{type} = {\\{A, C, T\\}}$\n",
    "\n",
    "A $\\leftarrow$ tweet,\n",
    "\n",
    "C $\\leftarrow$ reply,\n",
    "\n",
    "T $\\leftarrow$ retweet"
   ]
  },
  {
   "cell_type": "code",
   "execution_count": 1,
   "metadata": {},
   "outputs": [],
   "source": [
    "import pandas as pd\n",
    "import numpy as np\n",
    "import matplotlib.pyplot as plt\n",
    "import matplotlib.ticker as ticker\n",
    "import seaborn as sns"
   ]
  },
  {
   "cell_type": "code",
   "execution_count": 2,
   "metadata": {},
   "outputs": [],
   "source": [
    "import sys\n",
    "import time\n",
    "import zlib"
   ]
  },
  {
   "cell_type": "code",
   "execution_count": 3,
   "metadata": {},
   "outputs": [],
   "source": [
    "from sklearn import utils\n",
    "from sklearn.linear_model import LogisticRegression\n",
    "from sklearn.model_selection import train_test_split\n",
    "from sklearn.metrics import accuracy_score, precision_score, recall_score, f1_score, matthews_corrcoef, confusion_matrix"
   ]
  },
  {
   "cell_type": "code",
   "execution_count": 4,
   "metadata": {},
   "outputs": [],
   "source": [
    "# load dataset\n",
    "data_path = '/Users/anne/Desktop/capstone/TIMME/TIMME/data/'\n",
    "data_set = 'PureP/'\n",
    "\n",
    "# load all twitter ids\n",
    "twitter_ids = pd.read_csv(data_path+data_set+'all_twitter_ids.csv')\n",
    "\n",
    "# load ground truth - R_party or D_party\n",
    "party_dict = pd.read_csv(data_path+data_set+'dict.csv',sep='\\t')\n",
    "R_party = party_dict[party_dict['party'] == 'R']\n",
    "D_party = party_dict[party_dict['party'] == 'D']"
   ]
  },
  {
   "cell_type": "code",
   "execution_count": 5,
   "metadata": {},
   "outputs": [],
   "source": [
    "from os.path import exists\n",
    "# generate a digit DNA for each tweets file\n",
    "def create_dna_from_tweets(twitter_id):\n",
    "    path_to_file = data_path+'tweets/'+twitter_id+'.txt'\n",
    "    file_exists = exists(path_to_file)\n",
    "    if not file_exists:\n",
    "        print(path_to_file,\"does not exists\")\n",
    "        return ''\n",
    "    tweets_file = pd.read_csv(path_to_file,sep='\\n'\n",
    "                              ,names=['twitter_id'],quoting=3,lineterminator='\\n')\n",
    "    \n",
    "    dna = ''\n",
    "    for index, row in tweets_file.itertuples():\n",
    "        row = str(row)\n",
    "        # retweet\n",
    "        if row.startswith('RT'):\n",
    "            dna += 'T'\n",
    "        # reply\n",
    "        elif row.startswith('@'):\n",
    "            dna += 'C'\n",
    "        # tweet\n",
    "        else:\n",
    "            dna += 'A'\n",
    "    return dna"
   ]
  },
  {
   "cell_type": "code",
   "execution_count": 6,
   "metadata": {},
   "outputs": [],
   "source": [
    "def compress_dna_df(dna):\n",
    "    '''Return a dataframe with compression facts for a series of dna.'''\n",
    "\n",
    "    # Convert DNA in string object to bytes object.\n",
    "    dna_bytes = dna.apply(lambda s: s.encode('utf-8'))\n",
    "\n",
    "    # Run compression on each DNA string in the sample.\n",
    "    dna_compressed = dna_bytes.apply(lambda b: zlib.compress(b))\n",
    "\n",
    "    # Create dataframe with compression facts.\n",
    "    dna_df = pd.DataFrame({'original_dna_size': dna_bytes.apply(sys.getsizeof), \n",
    "                           'compressed_dna_size': dna_compressed.apply(sys.getsizeof)})\n",
    "    \n",
    "    dna_df['compression_ratio'] = dna_df['original_dna_size'] / dna_df['compressed_dna_size']\n",
    "    \n",
    "    return dna_df"
   ]
  },
  {
   "cell_type": "code",
   "execution_count": 7,
   "metadata": {},
   "outputs": [
    {
     "name": "stdout",
     "output_type": "stream",
     "text": [
      "/Users/anne/Desktop/capstone/TIMME/TIMME/data/tweets/1635375612.txt does not exists\n",
      "/Users/anne/Desktop/capstone/TIMME/TIMME/data/tweets/17896154.txt does not exists\n",
      "/Users/anne/Desktop/capstone/TIMME/TIMME/data/tweets/148006729.txt does not exists\n",
      "             twitter_id                                                dna\n",
      "0    842072478834909184  AATAAAAATAAATAATTATTAAAAAAAAAAAAAAAAAAAAATAAAA...\n",
      "1    888031054141022209  AAAAAAATATTAAAAAATTAAATAATTAAAAATAATAATTAAAAAT...\n",
      "2    819992522109894658  ATTAAAATTTAAATATAAAAAAAAAAAAAAAATTTTTTTTTAAAAT...\n",
      "3    956283913835614208  AAAATAAAAAAAAAAAAAAAAAAAAAAAATAAAAAATTATTTAAAT...\n",
      "4    836305915452272641  AAAAAAAAAAAAAAAAACCAAAAAAAAAAATAAAAAAAAAAAAAAA...\n",
      "..                  ...                                                ...\n",
      "578          2964877294  CAAAAAAAAAAATATATAATAATATAAAATAATAATTTTAAAAAAA...\n",
      "579           993153006  AAAAATTAAAAAAAAAAAAAAATTACAATACAACCAAAAAATAAAA...\n",
      "580            16056306  AAAAAAAAAAATAATAAAAAAAAAAAAAAAAAAAAAAAAAAAAAAA...\n",
      "581            17494010  TAAAAAAAAAAAAATAAAAAAAAAAAAAAATAAAAAAAAAAAAAAA...\n",
      "582          2955485182  AAAAAATAAAAAAAAAAAAAAAAATAAAAAAATAAAAAAAAAAAAA...\n",
      "\n",
      "[583 rows x 2 columns]\n"
     ]
    }
   ],
   "source": [
    "#map dna to tweeter id\n",
    "twitter_ids['dna'] = twitter_ids.apply(lambda x: create_dna_from_tweets(str(x['twitter_id'])),axis=1)\n",
    "\n",
    "print(twitter_ids)"
   ]
  },
  {
   "cell_type": "code",
   "execution_count": 8,
   "metadata": {},
   "outputs": [],
   "source": [
    "# DNA for Republicans\n",
    "R_dna = pd.merge(twitter_ids,R_party, on='twitter_id')\n",
    "\n",
    "# DNA for Demoncrates\n",
    "D_dna = pd.merge(twitter_ids,D_party, on='twitter_id')\n",
    "\n"
   ]
  },
  {
   "cell_type": "code",
   "execution_count": 9,
   "metadata": {},
   "outputs": [
    {
     "name": "stdout",
     "output_type": "stream",
     "text": [
      "     original_dna_size  compressed_dna_size  compression_ratio\n",
      "0                 2404                  198          12.141414\n",
      "1                   97                   62           1.564516\n",
      "2                 2104                  390           5.394872\n",
      "3                 1614                  336           4.803571\n",
      "4                  372                   95           3.915789\n",
      "..                 ...                  ...                ...\n",
      "307               3255                  573           5.680628\n",
      "308               1748                  356           4.910112\n",
      "309               3250                  604           5.380795\n",
      "310               2780                  323           8.606811\n",
      "311               2971                  404           7.353960\n",
      "\n",
      "[312 rows x 3 columns]\n"
     ]
    }
   ],
   "source": [
    "# DNA string compression for Republicans\n",
    "R_dna_compressed = compress_dna_df(R_dna['dna'])\n",
    "\n",
    "# DNA string compression for Democrates\n",
    "D_dna_compressed = compress_dna_df(D_dna['dna'])\n",
    "\n",
    "print(R_dna_compressed)"
   ]
  },
  {
   "cell_type": "code",
   "execution_count": 10,
   "metadata": {},
   "outputs": [
    {
     "name": "stdout",
     "output_type": "stream",
     "text": [
      "             twitter_id                                                dna  \\\n",
      "0    842072478834909184  AATAAAAATAAATAATTATTAAAAAAAAAAAAAAAAAAAAATAAAA...   \n",
      "1    888031054141022209  AAAAAAATATTAAAAAATTAAATAATTAAAAATAATAATTAAAAAT...   \n",
      "2    819992522109894658  ATTAAAATTTAAATATAAAAAAAAAAAAAAAATTTTTTTTTAAAAT...   \n",
      "3    956283913835614208  AAAATAAAAAAAAAAAAAAAAAAAAAAAATAAAAAATTATTTAAAT...   \n",
      "4    836305915452272641  AAAAAAAAAAAAAAAAACCAAAAAAAAAAATAAAAAAAAAAAAAAA...   \n",
      "..                  ...                                                ...   \n",
      "307            22509548  AAATAAATAATAAAAATAATTAAATATATATTATATAAAATTTAAT...   \n",
      "308          2964877294  CAAAAAAAAAAATATATAATAATATAAAATAATAATTTTAAAAAAA...   \n",
      "309           993153006  AAAAATTAAAAAAAAAAAAAAATTACAATACAACCAAAAAATAAAA...   \n",
      "310            16056306  AAAAAAAAAAATAATAAAAAAAAAAAAAAAAAAAAAAAAAAAAAAA...   \n",
      "311          2955485182  AAAAAATAAAAAAAAAAAAAAAAATAAAAAAATAAAAAAAAAAAAA...   \n",
      "\n",
      "                    name     twitter_name party  original_dna_size  \\\n",
      "0           Sonny Perdue   SecretarySonny     R               2404   \n",
      "1          Mick Mulvaney  MickMulvaneyOMB     R                 97   \n",
      "2       Linda E. McMahon         SBALinda     R               2104   \n",
      "3              Alex Azar          SecAzar     R               1614   \n",
      "4    Wilbur L. Ross, Jr.    SecretaryRoss     R                372   \n",
      "..                   ...              ...   ...                ...   \n",
      "307     Issa, Darrell E.      DarrellIssa     R               3255   \n",
      "308           Bost, Mike          RepBost     R               1748   \n",
      "309        Davis, Rodney      RodneyDavis     R               3250   \n",
      "310          Flake, Jeff        JeffFlake     R               2780   \n",
      "311        Rounds, Mike     SenatorRounds     R               2971   \n",
      "\n",
      "     compressed_dna_size  compression_ratio  \n",
      "0                    198          12.141414  \n",
      "1                     62           1.564516  \n",
      "2                    390           5.394872  \n",
      "3                    336           4.803571  \n",
      "4                     95           3.915789  \n",
      "..                   ...                ...  \n",
      "307                  573           5.680628  \n",
      "308                  356           4.910112  \n",
      "309                  604           5.380795  \n",
      "310                  323           8.606811  \n",
      "311                  404           7.353960  \n",
      "\n",
      "[312 rows x 8 columns]\n",
      "             twitter_id                                                dna  \\\n",
      "0    855240223432769538  TAAAAAAAAAAAAATAAAAAAAAAAAAAAAAAAAAAAAAAAAAAAA...   \n",
      "1             442824717  TTTATAATAAAAAAAAAAATAATAATAATTAAAAAAATATAAAAAT...   \n",
      "2            1058717720  AAAAAATAACTAAAAATATATAAAAAAAAAAAAAAAAAAAAAAAAT...   \n",
      "3             385429543  AAAAAAAAAAAAATAAAAAATAAAAAAAAAAAAAAAAAAAAAAAAA...   \n",
      "4             117501995  ATAAAAAAAAAAAAAAAAAAAAAAAAAAAAATAAAAAAAAAAAAAA...   \n",
      "..                  ...                                                ...   \n",
      "264            18696134  AAAAAAAAAAAAAAAAAAAAAAAAAAATTTAATAAAAAAAAAAAAA...   \n",
      "265           950783972  AAAAAAAAAAAAAAAAAAAAAAAAAAAAAAAAAAAAAAAAAAAAAA...   \n",
      "266            24745957  AATTACAAAATAATAATATAATAATTATAAAAAATATTAAAATTAA...   \n",
      "267            74508260  AACAAAAAAAAAAAAAAAAAAAAAAAAAAAAAAAAAAAAAAAAAAA...   \n",
      "268            17494010  TAAAAAAAAAAAAATAAAAAAAAAAAAAAATAAAAAAAAAAAAAAA...   \n",
      "\n",
      "                              name     twitter_name party  original_dna_size  \\\n",
      "0                      Lamb, Conor      ConorLambPA     D                436   \n",
      "1                 Neal, Richard E.   RepRichardNeal     D               1682   \n",
      "2                   Kuster, Ann M.   RepAnnieKuster     D               3251   \n",
      "3                  McNerney, Jerry      RepMcNerney     D               2232   \n",
      "4                  Cantwell, Maria  SenatorCantwell     D               3278   \n",
      "..                             ...              ...   ...                ...   \n",
      "264                   Sires, Albio         RepSires     D               3096   \n",
      "265                      Bera, Ami          RepBera     D               3247   \n",
      "266  Johnson, Henry C. \"Hank,\" Jr.   RepHankJohnson     D               3271   \n",
      "267            Pascrell, Bill, Jr.     BillPascrell     D               3265   \n",
      "268            Schumer, Charles E.       SenSchumer     D               3271   \n",
      "\n",
      "     compressed_dna_size  compression_ratio  \n",
      "0                     89           4.898876  \n",
      "1                    248           6.782258  \n",
      "2                    418           7.777512  \n",
      "3                    364           6.131868  \n",
      "4                    357           9.182073  \n",
      "..                   ...                ...  \n",
      "264                  245          12.636735  \n",
      "265                  308          10.542208  \n",
      "266                  674           4.853116  \n",
      "267                  433           7.540416  \n",
      "268                  553           5.915009  \n",
      "\n",
      "[269 rows x 8 columns]\n"
     ]
    }
   ],
   "source": [
    "# combine those compressed with original\n",
    "R_dna = pd.concat([R_dna,R_dna_compressed],axis=1)\n",
    "D_dna = pd.concat([D_dna,D_dna_compressed],axis=1)\n",
    "\n",
    "print(R_dna)\n",
    "print(D_dna)"
   ]
  },
  {
   "cell_type": "code",
   "execution_count": 11,
   "metadata": {},
   "outputs": [
    {
     "ename": "NameError",
     "evalue": "name 'num_bots' is not defined",
     "output_type": "error",
     "traceback": [
      "\u001b[0;31m---------------------------------------------------------------------------\u001b[0m",
      "\u001b[0;31mNameError\u001b[0m                                 Traceback (most recent call last)",
      "\u001b[0;32m<ipython-input-11-84d82a92f4ba>\u001b[0m in \u001b[0;36m<module>\u001b[0;34m\u001b[0m\n\u001b[1;32m      8\u001b[0m \u001b[0;34m\u001b[0m\u001b[0m\n\u001b[1;32m      9\u001b[0m \u001b[0;32mfor\u001b[0m \u001b[0m_\u001b[0m \u001b[0;32min\u001b[0m \u001b[0mrange\u001b[0m\u001b[0;34m(\u001b[0m\u001b[0;36m100\u001b[0m\u001b[0;34m)\u001b[0m\u001b[0;34m:\u001b[0m\u001b[0;34m\u001b[0m\u001b[0;34m\u001b[0m\u001b[0m\n\u001b[0;32m---> 10\u001b[0;31m     \u001b[0;32mfor\u001b[0m \u001b[0mn\u001b[0m \u001b[0;32min\u001b[0m \u001b[0mnum_bots\u001b[0m\u001b[0;34m:\u001b[0m\u001b[0;34m\u001b[0m\u001b[0;34m\u001b[0m\u001b[0m\n\u001b[0m\u001b[1;32m     11\u001b[0m         \u001b[0mbot_dna_test\u001b[0m \u001b[0;34m=\u001b[0m \u001b[0mss1_dna_test1\u001b[0m\u001b[0;34m.\u001b[0m\u001b[0msample\u001b[0m\u001b[0;34m(\u001b[0m\u001b[0;36m2\u001b[0m\u001b[0;34m*\u001b[0m\u001b[0mn\u001b[0m\u001b[0;34m)\u001b[0m\u001b[0;34m\u001b[0m\u001b[0;34m\u001b[0m\u001b[0m\n\u001b[1;32m     12\u001b[0m         \u001b[0mgen_dna_test\u001b[0m \u001b[0;34m=\u001b[0m \u001b[0mgen_dna_test1\u001b[0m\u001b[0;34m.\u001b[0m\u001b[0msample\u001b[0m\u001b[0;34m(\u001b[0m\u001b[0;36m2\u001b[0m\u001b[0;34m*\u001b[0m\u001b[0mnum_humans\u001b[0m\u001b[0;34m)\u001b[0m\u001b[0;34m\u001b[0m\u001b[0;34m\u001b[0m\u001b[0m\n",
      "\u001b[0;31mNameError\u001b[0m: name 'num_bots' is not defined"
     ]
    }
   ],
   "source": [
    "np.random.seed(2601)\n",
    "\n",
    "results_with_length_1 = []\n",
    "results_with_ratio_1 = []\n",
    "\n",
    "num_republicans = list(range(1, 21))\n",
    "num_humans = 100\n",
    "\n",
    "for _ in range(100):\n",
    "    for n in num_bots:\n",
    "        bot_dna_test = ss1_dna_test1.sample(2*n)\n",
    "        gen_dna_test = gen_dna_test1.sample(2*num_humans)\n",
    "        \n",
    "        ##### original dna size + compressed dna size\n",
    "        X_train = pd.concat([gen_dna_test[['original_dna_size', 'compressed_dna_size']].head(num_humans),\n",
    "                             bot_dna_test[['original_dna_size', 'compressed_dna_size']].head(n)])\n",
    "        X_test = pd.concat([gen_dna_test[['original_dna_size', 'compressed_dna_size']].tail(num_humans),\n",
    "                            bot_dna_test[['original_dna_size', 'compressed_dna_size']].tail(n)])\n",
    "\n",
    "        y_train = pd.concat([gen_dna_test.loc[:, 'label'].head(num_humans), \n",
    "                             bot_dna_test.loc[:, 'label'].head(n)])\n",
    "        y_test = pd.concat([gen_dna_test.loc[:, 'label'].tail(num_humans), \n",
    "                             bot_dna_test.loc[:, 'label'].tail(n)])\n",
    "\n",
    "        # Logistic Regression classifier with default parameters.\n",
    "        classifier = LogisticRegression()\n",
    "\n",
    "        # Train the classifier.\n",
    "        classifier.fit(X_train, y_train)\n",
    "\n",
    "        # Make predictions on the test set.\n",
    "        predictions = classifier.predict(X_test)\n",
    "\n",
    "        # Evaluation on the test set.\n",
    "        tn, fp, fn, tp = confusion_matrix(y_test, predictions).ravel()\n",
    "        specificity = tn / (tn+fp)\n",
    "        \n",
    "        res = dict()\n",
    "        res['Accuracy'] = accuracy_score(y_test, predictions)\n",
    "        res['Precision'] = precision_score(y_test, predictions)\n",
    "        res['Recall'] = recall_score(y_test, predictions)\n",
    "        res['F1 Score'] = f1_score(y_test, predictions)\n",
    "        res['Specificity'] = specificity\n",
    "        res['MCC'] = matthews_corrcoef(y_test, predictions)\n",
    "        res['Proportion'] = n / num_humans\n",
    "\n",
    "        results_with_length_1.append(res.copy())\n",
    "\n",
    "        \n",
    "        ##### original dna size + compression ratio\n",
    "        X_train = pd.concat([gen_dna_test[['original_dna_size', 'compression_ratio']].head(num_humans),\n",
    "                             bot_dna_test[['original_dna_size', 'compression_ratio']].head(n)])\n",
    "        X_test = pd.concat([gen_dna_test[['original_dna_size', 'compression_ratio']].tail(num_humans),\n",
    "                            bot_dna_test[['original_dna_size', 'compression_ratio']].tail(n)])\n",
    "\n",
    "        y_train = pd.concat([gen_dna_test.loc[:, 'label'].head(num_humans), \n",
    "                             bot_dna_test.loc[:, 'label'].head(n)])\n",
    "        y_test = pd.concat([gen_dna_test.loc[:, 'label'].tail(num_humans), \n",
    "                             bot_dna_test.loc[:, 'label'].tail(n)])\n",
    "\n",
    "        # Logistic Regression classifier with default parameters.\n",
    "        classifier = LogisticRegression()\n",
    "\n",
    "        # Train the classifier.\n",
    "        classifier.fit(X_train, y_train)\n",
    "\n",
    "        # Make predictions on the test set.\n",
    "        predictions = classifier.predict(X_test)\n",
    "\n",
    "        # Evaluation on the test set.\n",
    "        \n",
    "        tn, fp, fn, tp = confusion_matrix(y_test, predictions).ravel()\n",
    "        specificity = tn / (tn+fp)\n",
    "        \n",
    "        res = dict()\n",
    "        res['Accuracy'] = accuracy_score(y_test, predictions)\n",
    "        res['Precision'] = precision_score(y_test, predictions)\n",
    "        res['Recall'] = recall_score(y_test, predictions)\n",
    "        res['F1 Score'] = f1_score(y_test, predictions)\n",
    "        res['Specificity'] = specificity\n",
    "        res['MCC'] = matthews_corrcoef(y_test, predictions)\n",
    "        res['Proportion'] = n / num_humans\n",
    "\n",
    "        results_with_ratio_1.append(res.copy())\n",
    "        \n",
    "\n",
    "results_with_length_1 = pd.DataFrame(results_with_length_1)\n",
    "results_with_length_1 = results_with_length_1.groupby(['Proportion']).mean().reset_index()\n",
    "\n",
    "results_with_ratio_1 = pd.DataFrame(results_with_ratio_1)\n",
    "results_with_ratio_1 = results_with_ratio_1.groupby(['Proportion']).mean().reset_index()"
   ]
  },
  {
   "cell_type": "markdown",
   "metadata": {},
   "source": [
    "#### Visualise compression facts for accounts."
   ]
  },
  {
   "cell_type": "code",
   "execution_count": 12,
   "metadata": {},
   "outputs": [],
   "source": [
    "# Combine all samples into a single dataframe.\n",
    "all_dna = pd.concat([R_dna, D_dna])"
   ]
  },
  {
   "cell_type": "code",
   "execution_count": 13,
   "metadata": {},
   "outputs": [
    {
     "data": {
      "text/html": [
       "<div>\n",
       "<style scoped>\n",
       "    .dataframe tbody tr th:only-of-type {\n",
       "        vertical-align: middle;\n",
       "    }\n",
       "\n",
       "    .dataframe tbody tr th {\n",
       "        vertical-align: top;\n",
       "    }\n",
       "\n",
       "    .dataframe thead th {\n",
       "        text-align: right;\n",
       "    }\n",
       "</style>\n",
       "<table border=\"1\" class=\"dataframe\">\n",
       "  <thead>\n",
       "    <tr style=\"text-align: right;\">\n",
       "      <th></th>\n",
       "      <th>twitter_id</th>\n",
       "      <th>dna</th>\n",
       "      <th>name</th>\n",
       "      <th>twitter_name</th>\n",
       "      <th>party</th>\n",
       "      <th>original_dna_size</th>\n",
       "      <th>compressed_dna_size</th>\n",
       "      <th>compression_ratio</th>\n",
       "    </tr>\n",
       "  </thead>\n",
       "  <tbody>\n",
       "    <tr>\n",
       "      <th>131</th>\n",
       "      <td>1065995022</td>\n",
       "      <td>ATTAAAAAAATTAATTAATTAAAAAAATTTAAAAAAAATAAAAAAA...</td>\n",
       "      <td>Walorski, Jackie</td>\n",
       "      <td>RepWalorski</td>\n",
       "      <td>R</td>\n",
       "      <td>3258</td>\n",
       "      <td>546</td>\n",
       "      <td>5.967033</td>\n",
       "    </tr>\n",
       "    <tr>\n",
       "      <th>91</th>\n",
       "      <td>818910970567344128</td>\n",
       "      <td>ATTTATATTTAAAATTTTAAAAATTATTATTTTTAATTTTTAAAAA...</td>\n",
       "      <td>Michael R. Pence</td>\n",
       "      <td>VP</td>\n",
       "      <td>R</td>\n",
       "      <td>3236</td>\n",
       "      <td>564</td>\n",
       "      <td>5.737589</td>\n",
       "    </tr>\n",
       "    <tr>\n",
       "      <th>51</th>\n",
       "      <td>51228911</td>\n",
       "      <td>AATAATATAAAAAAAAAAATATTAAAAAAAAAAAAAAAAAAAAAAT...</td>\n",
       "      <td>Turner, Michael R.</td>\n",
       "      <td>RepMikeTurner</td>\n",
       "      <td>R</td>\n",
       "      <td>2763</td>\n",
       "      <td>532</td>\n",
       "      <td>5.193609</td>\n",
       "    </tr>\n",
       "    <tr>\n",
       "      <th>29</th>\n",
       "      <td>291756142</td>\n",
       "      <td>AAAAATAAATAAAAAAAAATAATAATAAAAAAAAAATAAAAATAAA...</td>\n",
       "      <td>Enzi, Michael B.</td>\n",
       "      <td>SenatorEnzi</td>\n",
       "      <td>R</td>\n",
       "      <td>3267</td>\n",
       "      <td>437</td>\n",
       "      <td>7.475973</td>\n",
       "    </tr>\n",
       "    <tr>\n",
       "      <th>197</th>\n",
       "      <td>821769014691168256</td>\n",
       "      <td>AAATTAATAAAAAAATAATTTTTATTAAAAAATTAAAAATAAATAA...</td>\n",
       "      <td>Ernest Moniz</td>\n",
       "      <td>ErnestMoniz</td>\n",
       "      <td>D</td>\n",
       "      <td>383</td>\n",
       "      <td>138</td>\n",
       "      <td>2.775362</td>\n",
       "    </tr>\n",
       "  </tbody>\n",
       "</table>\n",
       "</div>"
      ],
      "text/plain": [
       "             twitter_id                                                dna  \\\n",
       "131          1065995022  ATTAAAAAAATTAATTAATTAAAAAAATTTAAAAAAAATAAAAAAA...   \n",
       "91   818910970567344128  ATTTATATTTAAAATTTTAAAAATTATTATTTTTAATTTTTAAAAA...   \n",
       "51             51228911  AATAATATAAAAAAAAAAATATTAAAAAAAAAAAAAAAAAAAAAAT...   \n",
       "29            291756142  AAAAATAAATAAAAAAAAATAATAATAAAAAAAAAATAAAAATAAA...   \n",
       "197  821769014691168256  AAATTAATAAAAAAATAATTTTTATTAAAAAATTAAAAATAAATAA...   \n",
       "\n",
       "                   name   twitter_name party  original_dna_size  \\\n",
       "131    Walorski, Jackie    RepWalorski     R               3258   \n",
       "91     Michael R. Pence             VP     R               3236   \n",
       "51   Turner, Michael R.  RepMikeTurner     R               2763   \n",
       "29     Enzi, Michael B.    SenatorEnzi     R               3267   \n",
       "197        Ernest Moniz    ErnestMoniz     D                383   \n",
       "\n",
       "     compressed_dna_size  compression_ratio  \n",
       "131                  546           5.967033  \n",
       "91                   564           5.737589  \n",
       "51                   532           5.193609  \n",
       "29                   437           7.475973  \n",
       "197                  138           2.775362  "
      ]
     },
     "execution_count": 13,
     "metadata": {},
     "output_type": "execute_result"
    }
   ],
   "source": [
    "all_dna.sample(5)"
   ]
  },
  {
   "cell_type": "markdown",
   "metadata": {},
   "source": [
    "##### Plot of Uncompressed DNA Size vs. Compressed DNA Size.\n",
    "\n",
    "Includes the following accounts:\n",
    "1. Republicans\n",
    "1. Democrats\n"
   ]
  },
  {
   "cell_type": "code",
   "execution_count": 24,
   "metadata": {},
   "outputs": [
    {
     "name": "stderr",
     "output_type": "stream",
     "text": [
      "/usr/local/lib/python3.9/site-packages/seaborn/axisgrid.py:337: UserWarning: The `size` parameter has been renamed to `height`; please update your code.\n",
      "  warnings.warn(msg, UserWarning)\n",
      "/usr/local/lib/python3.9/site-packages/seaborn/axisgrid.py:806: UserWarning: You passed a edgecolor/edgecolors ('white') for an unfilled marker ('x').  Matplotlib is ignoring the edgecolor in favor of the facecolor.  This behavior may change in the future.\n",
      "  func(*plot_args, **plot_kwargs)\n"
     ]
    },
    {
     "data": {
      "text/plain": [
       "<seaborn.axisgrid.FacetGrid at 0x12c2af520>"
      ]
     },
     "execution_count": 24,
     "metadata": {},
     "output_type": "execute_result"
    },
    {
     "data": {
      "image/png": "[encoded data removed]",
      "text/plain": [
       "<Figure size 547.125x504 with 1 Axes>"
      ]
     },
     "metadata": {},
     "output_type": "display_data"
    }
   ],
   "source": [
    "sns.set_style(\"white\")\n",
    "\n",
    "pal = {\n",
    "    'R': 'green',\n",
    "    'D': 'red'\n",
    "}\n",
    "\n",
    "g = sns.FacetGrid(all_dna, hue='party', palette=pal, size=7, hue_kws=dict(marker=[\"o\", \"x\"]))\n",
    "g.map(plt.scatter, \"original_dna_size\", \"compressed_dna_size\", s=25, alpha=0.6, edgecolor=\"white\")\n",
    "g.add_legend()\n",
    "g.set_axis_labels('Original DNA Size', 'Compressed DNA Size')"
   ]
  },
  {
   "cell_type": "code",
   "execution_count": 21,
   "metadata": {},
   "outputs": [
    {
     "data": {
      "text/plain": [
       "<seaborn.axisgrid.FacetGrid at 0x12a0d8460>"
      ]
     },
     "execution_count": 21,
     "metadata": {},
     "output_type": "execute_result"
    },
    {
     "data": {
      "image/png": "[encoded data removed]",
      "text/plain": [
       "<Figure size 403.125x360 with 1 Axes>"
      ]
     },
     "metadata": {},
     "output_type": "display_data"
    }
   ],
   "source": [
    "g = sns.FacetGrid(all_dna, hue='party', palette=pal, size=5)\n",
    "g.set(xlim=(0, 75))\n",
    "g.map(sns.kdeplot, 'compression_ratio')\n",
    "g.add_legend()"
   ]
  },
  {
   "cell_type": "code",
   "execution_count": null,
   "metadata": {},
   "outputs": [],
   "source": []
  }
 ],
 "metadata": {
  "interpreter": {
   "hash": "dca0ade3e726a953b501b15e8e990130d2b7799f14cfd9f4271676035ebe5511"
  },
  "kernelspec": {
   "display_name": "Python 3",
   "language": "python",
   "name": "python3"
  },
  "language_info": {
   "codemirror_mode": {
    "name": "ipython",
    "version": 3
   },
   "file_extension": ".py",
   "mimetype": "text/x-python",
   "name": "python",
   "nbconvert_exporter": "python",
   "pygments_lexer": "ipython3",
   "version": "3.9.9"
  }
 },
 "nbformat": 4,
 "nbformat_minor": 2
}
