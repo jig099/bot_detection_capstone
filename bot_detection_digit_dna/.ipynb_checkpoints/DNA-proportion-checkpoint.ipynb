{
 "cells": [
  {
   "cell_type": "markdown",
   "metadata": {},
   "source": [
    "Digital DNA\n",
    "Model account behaviour by defining the following alphabet, of cardinality N = 3,\n",
    "\n",
    "$B^3_{type} = {\\{A, C, T\\}}$\n",
    "\n",
    "A $\\leftarrow$ tweet,\n",
    "\n",
    "C $\\leftarrow$ reply,\n",
    "\n",
    "T $\\leftarrow$ retweet"
   ]
  },
  {
   "cell_type": "code",
   "execution_count": 1,
   "metadata": {},
   "outputs": [],
   "source": [
    "import pandas as pd\n",
    "import numpy as np\n",
    "import matplotlib.pyplot as plt\n",
    "import matplotlib.ticker as ticker\n",
    "import seaborn as sns"
   ]
  },
  {
   "cell_type": "code",
   "execution_count": null,
   "metadata": {},
   "outputs": [],
   "source": [
    "import sys\n",
    "import time\n",
    "import zlib"
   ]
  },
  {
   "cell_type": "code",
   "execution_count": 2,
   "metadata": {},
   "outputs": [],
   "source": [
    "# load dataset\n",
    "data_path = '/Users/anne/Desktop/capstone/TIMME/TIMME/data/'\n",
    "data_set = 'PureP/'\n",
    "\n",
    "# load all twitter ids\n",
    "twitter_ids = pd.read_csv(data_path+data_set+'all_twitter_ids.csv')\n",
    "\n",
    "# load ground truth - R_party or D_party\n",
    "party_dict = pd.read_csv(data_path+data_set+'dict.csv',sep='\\t')\n",
    "R_party = party_dict[party_dict['party'] == 'R']\n",
    "D_party = party_dict[party_dict['party'] == 'D']"
   ]
  },
  {
   "cell_type": "code",
   "execution_count": 3,
   "metadata": {},
   "outputs": [],
   "source": [
    "from os.path import exists\n",
    "# generate a digit DNA for each tweets file\n",
    "def create_dna_from_tweets(twitter_id):\n",
    "    path_to_file = data_path+'tweets/'+twitter_id+'.txt'\n",
    "    file_exists = exists(path_to_file)\n",
    "    if not file_exists:\n",
    "        print(path_to_file,\"does not exists\")\n",
    "        return ''\n",
    "    tweets_file = pd.read_csv(path_to_file,sep='\\n'\n",
    "                              ,names=['twitter_id'],quoting=3,lineterminator='\\n')\n",
    "    \n",
    "    dna = ''\n",
    "    for index, row in tweets_file.itertuples():\n",
    "        row = str(row)\n",
    "        # retweet\n",
    "        if row.startswith('RT'):\n",
    "            dna += 'T'\n",
    "        # reply\n",
    "        elif row.startswith('@'):\n",
    "            dna += 'C'\n",
    "        # tweet\n",
    "        else:\n",
    "            dna += 'A'\n",
    "    return dna"
   ]
  },
  {
   "cell_type": "code",
   "execution_count": 4,
   "metadata": {},
   "outputs": [],
   "source": [
    "def compress_dna_df(dna):\n",
    "    '''Return a dataframe with compression facts for a series of dna.'''\n",
    "\n",
    "    # Convert DNA in string object to bytes object.\n",
    "    dna_bytes = dna.apply(lambda s: s.encode('utf-8'))\n",
    "\n",
    "    # Run compression on each DNA string in the sample.\n",
    "    dna_compressed = dna_bytes.apply(lambda b: zlib.compress(b))\n",
    "\n",
    "    # Create dataframe with compression facts.\n",
    "    dna_df = pd.DataFrame({'dna': dna,\n",
    "                           'original_dna_size': dna_bytes.apply(sys.getsizeof), \n",
    "                           'compressed_dna_size': dna_compressed.apply(sys.getsizeof)})\n",
    "    \n",
    "    dna_df['compression_ratio'] = dna_df['original_dna_size'] / dna_df['compressed_dna_size']\n",
    "    \n",
    "    return dna_df"
   ]
  },
  {
   "cell_type": "code",
   "execution_count": 5,
   "metadata": {},
   "outputs": [
    {
     "name": "stdout",
     "output_type": "stream",
     "text": [
      "/Users/anne/Desktop/capstone/TIMME/TIMME/data/tweets/1635375612.txt does not exists\n",
      "/Users/anne/Desktop/capstone/TIMME/TIMME/data/tweets/17896154.txt does not exists\n",
      "/Users/anne/Desktop/capstone/TIMME/TIMME/data/tweets/148006729.txt does not exists\n",
      "             twitter_id                                                dna\n",
      "0    842072478834909184  AATAAAAATAAATAATTATTAAAAAAAAAAAAAAAAAAAAATAAAA...\n",
      "1    888031054141022209  AAAAAAATATTAAAAAATTAAATAATTAAAAATAATAATTAAAAAT...\n",
      "2    819992522109894658  ATTAAAATTTAAATATAAAAAAAAAAAAAAAATTTTTTTTTAAAAT...\n",
      "3    956283913835614208  AAAATAAAAAAAAAAAAAAAAAAAAAAAATAAAAAATTATTTAAAT...\n",
      "4    836305915452272641  AAAAAAAAAAAAAAAAACCAAAAAAAAAAATAAAAAAAAAAAAAAA...\n",
      "..                  ...                                                ...\n",
      "578          2964877294  CAAAAAAAAAAATATATAATAATATAAAATAATAATTTTAAAAAAA...\n",
      "579           993153006  AAAAATTAAAAAAAAAAAAAAATTACAATACAACCAAAAAATAAAA...\n",
      "580            16056306  AAAAAAAAAAATAATAAAAAAAAAAAAAAAAAAAAAAAAAAAAAAA...\n",
      "581            17494010  TAAAAAAAAAAAAATAAAAAAAAAAAAAAATAAAAAAAAAAAAAAA...\n",
      "582          2955485182  AAAAAATAAAAAAAAAAAAAAAAATAAAAAAATAAAAAAAAAAAAA...\n",
      "\n",
      "[583 rows x 2 columns]\n"
     ]
    }
   ],
   "source": [
    "#map dna to tweeter id\n",
    "twitter_ids['dna'] = twitter_ids.apply(lambda x: create_dna_from_tweets(str(x['twitter_id'])),axis=1)\n",
    "\n",
    "print(twitter_ids)"
   ]
  },
  {
   "cell_type": "code",
   "execution_count": 6,
   "metadata": {},
   "outputs": [],
   "source": [
    "# DNA for Republicans\n",
    "R_dna = pd.merge(twitter_ids,R_party, on='twitter_id')\n",
    "\n",
    "# DNA for Demoncrates\n",
    "D_dna = pd.merge(twitter_ids,D_party, on='twitter_id')\n",
    "\n"
   ]
  },
  {
   "cell_type": "code",
   "execution_count": 8,
   "metadata": {},
   "outputs": [
    {
     "ename": "NameError",
     "evalue": "name 'zlib' is not defined",
     "output_type": "error",
     "traceback": [
      "\u001b[0;31m---------------------------------------------------------------------------\u001b[0m",
      "\u001b[0;31mNameError\u001b[0m                                 Traceback (most recent call last)",
      "\u001b[0;32m<ipython-input-8-63817a7abe9c>\u001b[0m in \u001b[0;36m<module>\u001b[0;34m\u001b[0m\n\u001b[1;32m      1\u001b[0m \u001b[0;31m# DNA string compression for Republicans\u001b[0m\u001b[0;34m\u001b[0m\u001b[0;34m\u001b[0m\u001b[0;34m\u001b[0m\u001b[0m\n\u001b[0;32m----> 2\u001b[0;31m \u001b[0mR_dna_compressed\u001b[0m \u001b[0;34m=\u001b[0m \u001b[0mcompress_dna_df\u001b[0m\u001b[0;34m(\u001b[0m\u001b[0mR_dna\u001b[0m\u001b[0;34m[\u001b[0m\u001b[0;34m'dna'\u001b[0m\u001b[0;34m]\u001b[0m\u001b[0;34m)\u001b[0m\u001b[0;34m\u001b[0m\u001b[0;34m\u001b[0m\u001b[0m\n\u001b[0m\u001b[1;32m      3\u001b[0m \u001b[0;34m\u001b[0m\u001b[0m\n\u001b[1;32m      4\u001b[0m \u001b[0;31m# DNA string compression for Democrates\u001b[0m\u001b[0;34m\u001b[0m\u001b[0;34m\u001b[0m\u001b[0;34m\u001b[0m\u001b[0m\n\u001b[1;32m      5\u001b[0m \u001b[0mD_dna_compressed\u001b[0m \u001b[0;34m=\u001b[0m \u001b[0mcompress_dna_df\u001b[0m\u001b[0;34m(\u001b[0m\u001b[0mD_dna\u001b[0m\u001b[0;34m[\u001b[0m\u001b[0;34m'dna'\u001b[0m\u001b[0;34m]\u001b[0m\u001b[0;34m)\u001b[0m\u001b[0;34m\u001b[0m\u001b[0;34m\u001b[0m\u001b[0m\n",
      "\u001b[0;32m<ipython-input-4-ff3398a56ee1>\u001b[0m in \u001b[0;36mcompress_dna_df\u001b[0;34m(dna)\u001b[0m\n\u001b[1;32m      6\u001b[0m \u001b[0;34m\u001b[0m\u001b[0m\n\u001b[1;32m      7\u001b[0m     \u001b[0;31m# Run compression on each DNA string in the sample.\u001b[0m\u001b[0;34m\u001b[0m\u001b[0;34m\u001b[0m\u001b[0;34m\u001b[0m\u001b[0m\n\u001b[0;32m----> 8\u001b[0;31m     \u001b[0mdna_compressed\u001b[0m \u001b[0;34m=\u001b[0m \u001b[0mdna_bytes\u001b[0m\u001b[0;34m.\u001b[0m\u001b[0mapply\u001b[0m\u001b[0;34m(\u001b[0m\u001b[0;32mlambda\u001b[0m \u001b[0mb\u001b[0m\u001b[0;34m:\u001b[0m \u001b[0mzlib\u001b[0m\u001b[0;34m.\u001b[0m\u001b[0mcompress\u001b[0m\u001b[0;34m(\u001b[0m\u001b[0mb\u001b[0m\u001b[0;34m)\u001b[0m\u001b[0;34m)\u001b[0m\u001b[0;34m\u001b[0m\u001b[0;34m\u001b[0m\u001b[0m\n\u001b[0m\u001b[1;32m      9\u001b[0m \u001b[0;34m\u001b[0m\u001b[0m\n\u001b[1;32m     10\u001b[0m     \u001b[0;31m# Create dataframe with compression facts.\u001b[0m\u001b[0;34m\u001b[0m\u001b[0;34m\u001b[0m\u001b[0;34m\u001b[0m\u001b[0m\n",
      "\u001b[0;32m/usr/local/lib/python3.9/site-packages/pandas/core/series.py\u001b[0m in \u001b[0;36mapply\u001b[0;34m(self, func, convert_dtype, args, **kwds)\u001b[0m\n\u001b[1;32m   4136\u001b[0m             \u001b[0;32melse\u001b[0m\u001b[0;34m:\u001b[0m\u001b[0;34m\u001b[0m\u001b[0;34m\u001b[0m\u001b[0m\n\u001b[1;32m   4137\u001b[0m                 \u001b[0mvalues\u001b[0m \u001b[0;34m=\u001b[0m \u001b[0mself\u001b[0m\u001b[0;34m.\u001b[0m\u001b[0mastype\u001b[0m\u001b[0;34m(\u001b[0m\u001b[0mobject\u001b[0m\u001b[0;34m)\u001b[0m\u001b[0;34m.\u001b[0m\u001b[0m_values\u001b[0m\u001b[0;34m\u001b[0m\u001b[0;34m\u001b[0m\u001b[0m\n\u001b[0;32m-> 4138\u001b[0;31m                 \u001b[0mmapped\u001b[0m \u001b[0;34m=\u001b[0m \u001b[0mlib\u001b[0m\u001b[0;34m.\u001b[0m\u001b[0mmap_infer\u001b[0m\u001b[0;34m(\u001b[0m\u001b[0mvalues\u001b[0m\u001b[0;34m,\u001b[0m \u001b[0mf\u001b[0m\u001b[0;34m,\u001b[0m \u001b[0mconvert\u001b[0m\u001b[0;34m=\u001b[0m\u001b[0mconvert_dtype\u001b[0m\u001b[0;34m)\u001b[0m\u001b[0;34m\u001b[0m\u001b[0;34m\u001b[0m\u001b[0m\n\u001b[0m\u001b[1;32m   4139\u001b[0m \u001b[0;34m\u001b[0m\u001b[0m\n\u001b[1;32m   4140\u001b[0m         \u001b[0;32mif\u001b[0m \u001b[0mlen\u001b[0m\u001b[0;34m(\u001b[0m\u001b[0mmapped\u001b[0m\u001b[0;34m)\u001b[0m \u001b[0;32mand\u001b[0m \u001b[0misinstance\u001b[0m\u001b[0;34m(\u001b[0m\u001b[0mmapped\u001b[0m\u001b[0;34m[\u001b[0m\u001b[0;36m0\u001b[0m\u001b[0;34m]\u001b[0m\u001b[0;34m,\u001b[0m \u001b[0mSeries\u001b[0m\u001b[0;34m)\u001b[0m\u001b[0;34m:\u001b[0m\u001b[0;34m\u001b[0m\u001b[0;34m\u001b[0m\u001b[0m\n",
      "\u001b[0;32mpandas/_libs/lib.pyx\u001b[0m in \u001b[0;36mpandas._libs.lib.map_infer\u001b[0;34m()\u001b[0m\n",
      "\u001b[0;32m<ipython-input-4-ff3398a56ee1>\u001b[0m in \u001b[0;36m<lambda>\u001b[0;34m(b)\u001b[0m\n\u001b[1;32m      6\u001b[0m \u001b[0;34m\u001b[0m\u001b[0m\n\u001b[1;32m      7\u001b[0m     \u001b[0;31m# Run compression on each DNA string in the sample.\u001b[0m\u001b[0;34m\u001b[0m\u001b[0;34m\u001b[0m\u001b[0;34m\u001b[0m\u001b[0m\n\u001b[0;32m----> 8\u001b[0;31m     \u001b[0mdna_compressed\u001b[0m \u001b[0;34m=\u001b[0m \u001b[0mdna_bytes\u001b[0m\u001b[0;34m.\u001b[0m\u001b[0mapply\u001b[0m\u001b[0;34m(\u001b[0m\u001b[0;32mlambda\u001b[0m \u001b[0mb\u001b[0m\u001b[0;34m:\u001b[0m \u001b[0mzlib\u001b[0m\u001b[0;34m.\u001b[0m\u001b[0mcompress\u001b[0m\u001b[0;34m(\u001b[0m\u001b[0mb\u001b[0m\u001b[0;34m)\u001b[0m\u001b[0;34m)\u001b[0m\u001b[0;34m\u001b[0m\u001b[0;34m\u001b[0m\u001b[0m\n\u001b[0m\u001b[1;32m      9\u001b[0m \u001b[0;34m\u001b[0m\u001b[0m\n\u001b[1;32m     10\u001b[0m     \u001b[0;31m# Create dataframe with compression facts.\u001b[0m\u001b[0;34m\u001b[0m\u001b[0;34m\u001b[0m\u001b[0;34m\u001b[0m\u001b[0m\n",
      "\u001b[0;31mNameError\u001b[0m: name 'zlib' is not defined"
     ]
    }
   ],
   "source": [
    "# DNA string compression for Republicans\n",
    "R_dna_compressed = compress_dna_df(R_dna['dna'])\n",
    "\n",
    "# DNA string compression for Democrates\n",
    "D_dna_compressed = compress_dna_df(D_dna['dna'])\n"
   ]
  },
  {
   "cell_type": "code",
   "execution_count": null,
   "metadata": {},
   "outputs": [],
   "source": []
  }
 ],
 "metadata": {
  "interpreter": {
   "hash": "dca0ade3e726a953b501b15e8e990130d2b7799f14cfd9f4271676035ebe5511"
  },
  "kernelspec": {
   "display_name": "Python 3",
   "language": "python",
   "name": "python3"
  },
  "language_info": {
   "codemirror_mode": {
    "name": "ipython",
    "version": 3
   },
   "file_extension": ".py",
   "mimetype": "text/x-python",
   "name": "python",
   "nbconvert_exporter": "python",
   "pygments_lexer": "ipython3",
   "version": "3.9.1"
  }
 },
 "nbformat": 4,
 "nbformat_minor": 2
}
