{
 "cells": [
  {
   "cell_type": "code",
   "execution_count": 1,
   "metadata": {},
   "outputs": [],
   "source": [
    "import pandas as pd\n",
    "import numpy as np\n",
    "import matplotlib.pyplot as plt\n",
    "import matplotlib.ticker as ticker\n",
    "import seaborn as sns"
   ]
  },
  {
   "cell_type": "code",
   "execution_count": 2,
   "metadata": {},
   "outputs": [],
   "source": [
    "from sklearn.feature_extraction.text import TfidfVectorizer,CountVectorizer\n",
    "from sklearn.ensemble import RandomForestClassifier\n",
    "from sklearn.neighbors import KNeighborsClassifier\n",
    "from sklearn.model_selection import cross_val_score\n",
    "from sklearn.metrics import f1_score\n",
    "from sklearn import tree\n",
    "from sklearn import svm\n",
    "\n",
    "from sklearn import utils\n",
    "from sklearn.linear_model import LogisticRegression\n",
    "from sklearn.model_selection import train_test_split\n",
    "from sklearn.metrics import accuracy_score, precision_score, recall_score, f1_score, matthews_corrcoef, confusion_matrix\n",
    "from sklearn.ensemble import GradientBoostingClassifier\n",
    "\n",
    "import sys\n",
    "import time\n",
    "import zlib"
   ]
  },
  {
   "cell_type": "code",
   "execution_count": 3,
   "metadata": {},
   "outputs": [],
   "source": [
    "#Read in the data\n",
    "def create_input(path,File):\n",
    "    df = pd.DataFrame()\n",
    "    for file in File:\n",
    "        if(file == 'bot.json'):\n",
    "            print(path+file)\n",
    "            temp = pd.read_json(path+file)\n",
    "            temp['label'] = 1\n",
    "            df = pd.concat([df,temp])\n",
    "            print(df)\n",
    "        else:\n",
    "            print(path+file)\n",
    "            temp = pd.read_json(path+file)\n",
    "            temp['label'] = 0\n",
    "            df = pd.concat([df,temp])\n",
    "    return df\n",
    "    \n",
    "path = '../../PAN-19/prepared_dataset/'\n",
    "File=['human_female.json','human_male.json','bot.json']"
   ]
  },
  {
   "cell_type": "code",
   "execution_count": 4,
   "metadata": {},
   "outputs": [
    {
     "name": "stdout",
     "output_type": "stream",
     "text": [
      "../../PAN-19/prepared_dataset/training/en/human_female.json\n",
      "../../PAN-19/prepared_dataset/training/en/human_male.json\n",
      "../../PAN-19/prepared_dataset/training/en/bot.json\n",
      "                                    id  URL  mention  emoji  \\\n",
      "0     4d9645d3dfb31b0e120c0f1669d889c1    0       50     17   \n",
      "1     282b0c263b2aa1eda81745c08b910d09    0       57     30   \n",
      "2     84fd6d460407733a56c8cfae8df7eb50   13       84     47   \n",
      "3     80ec7b0a607f3c3d2510105029efaf0f    0       79     27   \n",
      "4     427fb617361c4f509d8831f36335e002    2       94     28   \n",
      "...                                ...  ...      ...    ...   \n",
      "2055  18c3c9accef72c5f8c26c6b94f31e6fc    0       27      5   \n",
      "2056  decb8549a7274ceeceb8fb15f0db90b2    0       23      5   \n",
      "2057  2c515694146bb39faddc295e107fe332    0       29      8   \n",
      "2058  24f037ecfa99908432c9c9860a6cfd8d    2       29      5   \n",
      "2059  721081fcb575173e3268d45abdc59a19   16       30      7   \n",
      "\n",
      "                                                 tweets  label  \n",
      "0     [I'm sure I've been ill for about 2 months now...      0  \n",
      "1     [What the hell is going on?! #CBB, This child ...      0  \n",
      "2     [What's the best flavour slender blend @Protei...      0  \n",
      "3     [@SydenieWells Hope you have had a lovely birt...      0  \n",
      "4     [“@FiftyShades: The wait is over. Watch the tr...      0  \n",
      "...                                                 ...    ...  \n",
      "2055  [http://t.co/xUHTMVmZoF, The mind is not a ves...      1  \n",
      "2056  [I love you more than there are stars in the s...      1  \n",
      "2057  [A light heart lives long. - William Shakespea...      1  \n",
      "2058  [I have found the paradox, that if you love un...      1  \n",
      "2059  [http://t.co/poNqstaO3v, 12 Great Motivational...      1  \n",
      "\n",
      "[4120 rows x 6 columns]\n",
      "../../PAN-19/prepared_dataset/testing/en/human_female.json\n",
      "../../PAN-19/prepared_dataset/testing/en/human_male.json\n",
      "../../PAN-19/prepared_dataset/testing/en/bot.json\n",
      "                                    id  URL  mention  emoji  \\\n",
      "0     8d2cdf81e2c3ddba5db19813e4d84c0e   21      139     55   \n",
      "1     f58939a361ee8b17be8c49f0440130b3   75      153     59   \n",
      "2     dc8e0d3355d9d445530aa6e06e29e84c   73      143     31   \n",
      "3     1b70bfb1b96c64abce4bfbe48a767578   82      120     43   \n",
      "4     57716a45b2c5943365425b287e12a26a   78      111     48   \n",
      "...                                ...  ...      ...    ...   \n",
      "1315  562cce18c66188147f68ca3503d29703  174        0    204   \n",
      "1316  11b713898d701faf8a63615458e1fe27  190        0    230   \n",
      "1317  c39e250c8f25b158f6f68f9256feec4e  176        0    265   \n",
      "1318  70f01606bf62c3cd59fa7e884d9e95ec  172        0    255   \n",
      "1319  fd1e616254dd5e00330fc429c0069688  187        0    206   \n",
      "\n",
      "                                                 tweets  label  \n",
      "0     [RT @jrsmith73: Congrats to @BarbaraBompani @j...      0  \n",
      "1     [RT @africanstudies: Round table discussion on...      0  \n",
      "2     [Strong real links and collaboration between W...      0  \n",
      "3     [Filming as a Decolonizing practice in researc...      0  \n",
      "4     [On Thursday at 10.30 am in Edinburgh, roundta...      0  \n",
      "...                                                 ...    ...  \n",
      "1315  [Lead WINDOWS Sr. Systems Administrator – SECR...      1  \n",
      "1316  [Principal DevOps Automation Engineer: MetroSt...      1  \n",
      "1317  [Senior Engineer – Embedded #2018-44592: Senio...      1  \n",
      "1318  [Sr./Principal Java Software Engineer – Data/E...      1  \n",
      "1319  [Software Architect: SOFTWARE ARCHITECT, IBM C...      1  \n",
      "\n",
      "[2640 rows x 6 columns]\n",
      "../../PAN-19/prepared_dataset/training/es/human_female.json\n",
      "../../PAN-19/prepared_dataset/training/es/human_male.json\n",
      "../../PAN-19/prepared_dataset/training/es/bot.json\n",
      "                                    id  URL  mention  emoji  \\\n",
      "0     5efad85507bde1d528f1a8b0a1ddd23e   33      126      7   \n",
      "1     9022cdb701a22f211613745da53c8a44   24      679      9   \n",
      "2     8095fbf47baba555183d333fd01864fa   31      265     15   \n",
      "3     f23dee6cb86e23041b0c3b707cb5c878   20      211     19   \n",
      "4     af2759a9c15e3aa8beda09d81dbf7d3b   25      223     12   \n",
      "...                                ...  ...      ...    ...   \n",
      "1495  886ab2081611c8e86320f20eab94fa54    0        0      0   \n",
      "1496  498187aca336a533523a0a9016c3e2f0    0        0      0   \n",
      "1497  e9a9d27949882220afafcc59c22330dd    0        0      0   \n",
      "1498  558c446958fe74004a525e036a4ba5c1    0        0      0   \n",
      "1499   f4d53dfc4b1dbab39a65fbdfe7233bb    0        0      0   \n",
      "\n",
      "                                                 tweets  label  \n",
      "0     [Verbo irregular \"EXTRAER\" se escribe con equi...      0  \n",
      "1     [¿Por qué se dejan confundir tan fácil? ¿Quién...      0  \n",
      "2     [@davidCalonge3 @LaIzquierdavive @NataliaMurci...      0  \n",
      "3     [#FelizMartes https://t.co/SCLrjldCuD, RT @Car...      0  \n",
      "4     [RT @ELIHARKONNEN: @CarolineroF Excepto que se...      0  \n",
      "...                                                 ...    ...  \n",
      "1495  [La helada de san Bernardino (20 de mayo) , qu...      1  \n",
      "1496  [Enero, frio o templado, pasalo abrigado., Ene...      1  \n",
      "1497  [En abril, quema la vieja en cancil., En Abril...      1  \n",
      "1498  [Buena es la nieve, si en enero viene., Buenos...      1  \n",
      "1499  [Alza en mayo y bina en junio, cogeras poca pa...      1  \n",
      "\n",
      "[3000 rows x 6 columns]\n",
      "../../PAN-19/prepared_dataset/testing/es/human_female.json\n",
      "../../PAN-19/prepared_dataset/testing/es/human_male.json\n",
      "../../PAN-19/prepared_dataset/testing/es/bot.json\n",
      "                                   id  URL  mention  emoji  \\\n",
      "0    abf0bb6d42064d78d0e678bb2941e42f   96        0      8   \n",
      "1    99f72f2cbc2198f7d43bf34039d666a9   91        1      5   \n",
      "2    a46ef863c41bda18c100bb88bb740cf1   99        0     12   \n",
      "3    6730bdf9686769c4a8a79d2f766a7f67   98        0      2   \n",
      "4    1e0cbaccebbd5f84dc505e6ef369407f   97        1      6   \n",
      "..                                ...  ...      ...    ...   \n",
      "895  7736dd75d5a8610a195395b31387ee23    7        5     36   \n",
      "896  3f27124435e6ad3ae47e7623ad8fa604   16       15     32   \n",
      "897  d4750677a3ccad8e684580d2f7d91da4   20       19     36   \n",
      "898  1080e49adc5ee86e850e33437ec6e3af   17       13     30   \n",
      "899  ede570d66462c1c67ca0bae2a103ddcd    5        0     36   \n",
      "\n",
      "                                                tweets  label  \n",
      "0    [Si en algún momento sientes que vives una mal...      0  \n",
      "1    [Es importa identifiques a las personas que so...      0  \n",
      "2    [Cualquier coincidencia... #vida diaria #amorm...      0  \n",
      "3    [Wow!! Nuevamente rebasamos expectivas... http...      0  \n",
      "4    [Excelente viernes!! https://t.co/CaGEXFhSAE, ...      0  \n",
      "..                                                 ...    ...  \n",
      "895  [Día Wajxaqib’ Aq'ab'al — Ocho Noches 🌃 #Guate...      1  \n",
      "896  [🌞 HOY 17/02/2018 ACLARÓ a las 06:03 en #Jutia...      1  \n",
      "897  [🌌 HOY 10/03/2018 OSCURECIÓ a las 18:33 en #Ch...      1  \n",
      "898  [#Hoy es el 92.° 🌞️ del año. Faltan 273 para t...      1  \n",
      "899  [🌞 HOY 23/04/2018 ACLARÓ a las 05:21 en #Escui...      1  \n",
      "\n",
      "[1800 rows x 6 columns]\n"
     ]
    }
   ],
   "source": [
    "twitter_train = create_input(path+'training/en/',File)\n",
    "twitter_test = create_input(path+'testing/en/', File)\n",
    "twitter_train_es = create_input(path+'training/es/',File)\n",
    "twitter_test_es = create_input(path+'testing/es/', File)\n",
    "ds = pd.concat([twitter_train,twitter_test],ignore_index=True)"
   ]
  },
  {
   "cell_type": "code",
   "execution_count": 5,
   "metadata": {},
   "outputs": [
    {
     "data": {
      "text/plain": [
       "<bound method NDFrame.head of                                     id  URL  mention  emoji  \\\n",
       "0     4d9645d3dfb31b0e120c0f1669d889c1    0       50     17   \n",
       "1     282b0c263b2aa1eda81745c08b910d09    0       57     30   \n",
       "2     84fd6d460407733a56c8cfae8df7eb50   13       84     47   \n",
       "3     80ec7b0a607f3c3d2510105029efaf0f    0       79     27   \n",
       "4     427fb617361c4f509d8831f36335e002    2       94     28   \n",
       "...                                ...  ...      ...    ...   \n",
       "6755  562cce18c66188147f68ca3503d29703  174        0    204   \n",
       "6756  11b713898d701faf8a63615458e1fe27  190        0    230   \n",
       "6757  c39e250c8f25b158f6f68f9256feec4e  176        0    265   \n",
       "6758  70f01606bf62c3cd59fa7e884d9e95ec  172        0    255   \n",
       "6759  fd1e616254dd5e00330fc429c0069688  187        0    206   \n",
       "\n",
       "                                                 tweets  label  \n",
       "0     [I'm sure I've been ill for about 2 months now...      0  \n",
       "1     [What the hell is going on?! #CBB, This child ...      0  \n",
       "2     [What's the best flavour slender blend @Protei...      0  \n",
       "3     [@SydenieWells Hope you have had a lovely birt...      0  \n",
       "4     [“@FiftyShades: The wait is over. Watch the tr...      0  \n",
       "...                                                 ...    ...  \n",
       "6755  [Lead WINDOWS Sr. Systems Administrator – SECR...      1  \n",
       "6756  [Principal DevOps Automation Engineer: MetroSt...      1  \n",
       "6757  [Senior Engineer – Embedded #2018-44592: Senio...      1  \n",
       "6758  [Sr./Principal Java Software Engineer – Data/E...      1  \n",
       "6759  [Software Architect: SOFTWARE ARCHITECT, IBM C...      1  \n",
       "\n",
       "[6760 rows x 6 columns]>"
      ]
     },
     "execution_count": 5,
     "metadata": {},
     "output_type": "execute_result"
    }
   ],
   "source": [
    "ds.head"
   ]
  },
  {
   "cell_type": "code",
   "execution_count": 6,
   "metadata": {},
   "outputs": [],
   "source": [
    "# generate a digit DNA for each account \n",
    "def create_dna_from_tweets(tweets):\n",
    "    dna = ''\n",
    "    if not tweets:\n",
    "        return dna\n",
    "    for index, row in enumerate(tweets):\n",
    "        # retweet\n",
    "        if row.startswith('RT'):\n",
    "            dna += 'T'\n",
    "        # reply\n",
    "        elif row.startswith('@'):\n",
    "            dna += 'C'\n",
    "        # tweet\n",
    "        else:\n",
    "            dna += 'A'\n",
    "    return dna"
   ]
  },
  {
   "cell_type": "code",
   "execution_count": 7,
   "metadata": {},
   "outputs": [],
   "source": [
    "def compress_dna_df(dna):\n",
    "    '''Return a dataframe with compression facts for a series of dna.'''\n",
    "\n",
    "    # Convert DNA in string object to bytes object.\n",
    "    dna_bytes = dna.apply(lambda s: s.encode('utf-8'))\n",
    "\n",
    "    # Run compression on each DNA string in the sample.\n",
    "    dna_compressed = dna_bytes.apply(lambda b: zlib.compress(b))\n",
    "\n",
    "    # Create dataframe with compression facts.\n",
    "    dna_df = pd.DataFrame({'original_dna_size': dna_bytes.apply(sys.getsizeof), \n",
    "                           'compressed_dna_size': dna_compressed.apply(sys.getsizeof)})\n",
    "    \n",
    "    dna_df['compression_ratio'] = dna_df['original_dna_size'] / dna_df['compressed_dna_size']\n",
    "    \n",
    "    return dna_df"
   ]
  },
  {
   "cell_type": "code",
   "execution_count": 8,
   "metadata": {},
   "outputs": [],
   "source": [
    "#map dna to tweeter id\n",
    "ds['dna'] = ds.apply(lambda x: create_dna_from_tweets(x['tweets']),axis=1)\n"
   ]
  },
  {
   "cell_type": "code",
   "execution_count": 9,
   "metadata": {},
   "outputs": [
    {
     "name": "stdout",
     "output_type": "stream",
     "text": [
      "      original_dna_size  compressed_dna_size  compression_ratio\n",
      "0                   133                   73           1.821918\n",
      "1                   133                   81           1.641975\n",
      "2                   133                   74           1.797297\n",
      "3                   133                   79           1.683544\n",
      "4                   133                   85           1.564706\n",
      "...                 ...                  ...                ...\n",
      "6755                133                   45           2.955556\n",
      "6756                133                   45           2.955556\n",
      "6757                133                   45           2.955556\n",
      "6758                133                   45           2.955556\n",
      "6759                133                   45           2.955556\n",
      "\n",
      "[6760 rows x 3 columns]\n"
     ]
    }
   ],
   "source": [
    "# DNA string compression\n",
    "dna_compressed = compress_dna_df(ds['dna'])\n",
    "print(dna_compressed)"
   ]
  },
  {
   "cell_type": "code",
   "execution_count": 10,
   "metadata": {},
   "outputs": [
    {
     "name": "stdout",
     "output_type": "stream",
     "text": [
      "                                                    dna  mention  emoji  URL  \\\n",
      "0     AATAAAAAAAAAAAAAAAAAATTAAAAACTAAAATAAACAAAAATA...       50     17    0   \n",
      "1     AAAATACCCAAAATAATAAAACACAAAAAAAAAAAAAAACAAAAAT...       57     30    0   \n",
      "2     AAAAAACTAAAAACAACAAAAAACTAAAAACCTAAATAAAACTTAT...       84     47   13   \n",
      "3     CAAAAAAATAAAAAATCAACCCACTATCAATAAAAAATCTAAACAA...       79     27    0   \n",
      "4     AAAACTTAACACTAATCAACATCCCAACCAACACAACTACAAAAAA...       94     28    2   \n",
      "...                                                 ...      ...    ...  ...   \n",
      "6755  AAAAAAAAAAAAAAAAAAAAAAAAAAAAAAAAAAAAAAAAAAAAAA...        0    204  174   \n",
      "6756  AAAAAAAAAAAAAAAAAAAAAAAAAAAAAAAAAAAAAAAAAAAAAA...        0    230  190   \n",
      "6757  AAAAAAAAAAAAAAAAAAAAAAAAAAAAAAAAAAAAAAAAAAAAAA...        0    265  176   \n",
      "6758  AAAAAAAAAAAAAAAAAAAAAAAAAAAAAAAAAAAAAAAAAAAAAA...        0    255  172   \n",
      "6759  AAAAAAAAAAAAAAAAAAAAAAAAAAAAAAAAAAAAAAAAAAAAAA...        0    206  187   \n",
      "\n",
      "      original_dna_size  compressed_dna_size  compression_ratio  label  \n",
      "0                   133                   73           1.821918      0  \n",
      "1                   133                   81           1.641975      0  \n",
      "2                   133                   74           1.797297      0  \n",
      "3                   133                   79           1.683544      0  \n",
      "4                   133                   85           1.564706      0  \n",
      "...                 ...                  ...                ...    ...  \n",
      "6755                133                   45           2.955556      1  \n",
      "6756                133                   45           2.955556      1  \n",
      "6757                133                   45           2.955556      1  \n",
      "6758                133                   45           2.955556      1  \n",
      "6759                133                   45           2.955556      1  \n",
      "\n",
      "[6760 rows x 8 columns]\n"
     ]
    }
   ],
   "source": [
    "# concat dna_compressed with twitter_ids df\n",
    "dna_compressed = pd.concat([ds['dna'],ds['mention'],ds['emoji'],ds['URL'],dna_compressed,ds['label']],axis=1)\n",
    "print(dna_compressed)\n"
   ]
  },
  {
   "cell_type": "code",
   "execution_count": 11,
   "metadata": {},
   "outputs": [],
   "source": [
    "# Filter genuine accounts and bot accounts to compute statistics for each group.\n",
    "g = dna_compressed['label'] == 0\n",
    "b = dna_compressed['label'] == 1"
   ]
  },
  {
   "cell_type": "markdown",
   "metadata": {},
   "source": [
    "#### Compression statistics"
   ]
  },
  {
   "cell_type": "code",
   "execution_count": 12,
   "metadata": {},
   "outputs": [],
   "source": [
    "compression_stats = pd.DataFrame({'Mean Length': [dna_compressed['dna'].apply(len).mean(), \n",
    "                                                  dna_compressed[g]['dna'].apply(len).mean(), \n",
    "                                                  dna_compressed[b]['dna'].apply(len).mean()],\n",
    "                                  'SD Length': [dna_compressed['dna'].apply(len).std(), \n",
    "                                                dna_compressed[g]['dna'].apply(len).std(), \n",
    "                                                dna_compressed[b]['dna'].apply(len).std()],\n",
    "                                  'Mean Uncompressed Size': [dna_compressed['original_dna_size'].mean(), \n",
    "                                                             dna_compressed[g]['original_dna_size'].mean(), \n",
    "                                                             dna_compressed[b]['original_dna_size'].mean()],\n",
    "                                  'SD Uncompressed Size': [dna_compressed['original_dna_size'].std(), \n",
    "                                                            dna_compressed[g]['original_dna_size'].std(), \n",
    "                                                           dna_compressed[b]['original_dna_size'].std()],\n",
    "                                  'Mean Compressed Size': [dna_compressed['compressed_dna_size'].mean(), \n",
    "                                                           dna_compressed[g]['compressed_dna_size'].mean(), \n",
    "                                                           dna_compressed[b]['compressed_dna_size'].mean()],\n",
    "                                  'SD Compressed Size': [dna_compressed['compressed_dna_size'].std(), \n",
    "                                                         dna_compressed[g]['compressed_dna_size'].std(), \n",
    "                                                         dna_compressed[b]['compressed_dna_size'].std()],\n",
    "                                  'Mean Compressio Ratio': [dna_compressed['compression_ratio'].mean(), \n",
    "                                                            dna_compressed[g]['compression_ratio'].mean(), \n",
    "                                                            dna_compressed[b]['compression_ratio'].mean()],\n",
    "                                  'SD Compressio Ratio': [dna_compressed['compression_ratio'].std(), \n",
    "                                                          dna_compressed[g]['compression_ratio'].std(), \n",
    "                                                          dna_compressed[b]['compression_ratio'].std()]},\n",
    "                                 index=['All', 'Genuine', 'Bot']).round(decimals=3)"
   ]
  },
  {
   "cell_type": "code",
   "execution_count": 13,
   "metadata": {
    "scrolled": true
   },
   "outputs": [
    {
     "name": "stdout",
     "output_type": "stream",
     "text": [
      "\\begin{tabular}{lrrrrrrrr}\n",
      "\\toprule\n",
      "{} &  Mean Length &  SD Length &  Mean Uncompressed Size &  SD Uncompressed Size &  Mean Compressed Size &  SD Compressed Size &  Mean Compressio Ratio &  SD Compressio Ratio \\\\\n",
      "\\midrule\n",
      "All     &        100.0 &        0.0 &                   133.0 &                   0.0 &                63.025 &              17.437 &                  2.281 &                0.621 \\\\\n",
      "Genuine &        100.0 &        0.0 &                   133.0 &                   0.0 &                78.202 &               9.690 &                  1.735 &                0.285 \\\\\n",
      "Bot     &        100.0 &        0.0 &                   133.0 &                   0.0 &                47.847 &               7.311 &                  2.826 &                0.308 \\\\\n",
      "\\bottomrule\n",
      "\\end{tabular}\n",
      "\n"
     ]
    }
   ],
   "source": [
    "print(compression_stats.to_latex())"
   ]
  },
  {
   "cell_type": "markdown",
   "metadata": {},
   "source": [
    "#### Compression statistics visualization"
   ]
  },
  {
   "cell_type": "code",
   "execution_count": 14,
   "metadata": {},
   "outputs": [
    {
     "name": "stderr",
     "output_type": "stream",
     "text": [
      "/usr/local/lib/python3.9/site-packages/seaborn/axisgrid.py:337: UserWarning: The `size` parameter has been renamed to `height`; please update your code.\n",
      "  warnings.warn(msg, UserWarning)\n",
      "findfont: Font family ['Source Sans Pro'] not found. Falling back to DejaVu Sans.\n",
      "findfont: Font family ['Source Sans Pro'] not found. Falling back to DejaVu Sans.\n"
     ]
    },
    {
     "data": {
      "text/plain": [
       "<seaborn.axisgrid.FacetGrid at 0x136c47580>"
      ]
     },
     "execution_count": 14,
     "metadata": {},
     "output_type": "execute_result"
    },
    {
     "data": {
      "image/png": "[encoded data removed]",
      "text/plain": [
       "<Figure size 478.6x432 with 1 Axes>"
      ]
     },
     "metadata": {},
     "output_type": "display_data"
    }
   ],
   "source": [
    "##### Plot of Uncompressed DNA Size vs. Compressed DNA Size.\n",
    "sns.set(style=\"white\", font='Source Sans Pro')\n",
    "\n",
    "pal = {\n",
    "    0: sns.color_palette('Dark2')[0],\n",
    "    1: sns.color_palette('Dark2')[1]\n",
    "}\n",
    "\n",
    "g = sns.FacetGrid(dna_compressed, hue='label', palette=pal, size=6, hue_kws=dict(marker=[\"^\", \".\"]))\n",
    "g.map(plt.scatter, \"original_dna_size\", \"compressed_dna_size\", s=100, alpha=0.85, edgecolor=\"white\")\n",
    "g.add_legend(loc='upper left', frameon=False)\n",
    "g.set_axis_labels('Original DNA Size', 'Compressed DNA Size')"
   ]
  },
  {
   "cell_type": "code",
   "execution_count": 15,
   "metadata": {},
   "outputs": [
    {
     "name": "stderr",
     "output_type": "stream",
     "text": [
      "/usr/local/lib/python3.9/site-packages/seaborn/axisgrid.py:156: UserWarning: You have mixed positional and keyword arguments, some input may be discarded.\n",
      "  figlegend = self._figure.legend(handles, labels, **kwargs)\n"
     ]
    },
    {
     "data": {
      "image/png": "[encoded data removed]",
      "text/plain": [
       "<Figure size 546.725x432 with 1 Axes>"
      ]
     },
     "metadata": {},
     "output_type": "display_data"
    }
   ],
   "source": [
    "##### Plot of Uncompressed DNA Size vs. Compression Ratio.\n",
    "sns.set(style=\"white\", font='Source Sans Pro')\n",
    "\n",
    "pal = {\n",
    "    0: sns.color_palette('Dark2')[0],\n",
    "    1: sns.color_palette('Dark2')[1]\n",
    "}\n",
    "\n",
    "g = sns.FacetGrid(dna_compressed, hue='label', palette=pal, height=6, hue_kws=dict(marker=[\"^\", \".\"]))\n",
    "g.map(plt.scatter, \"original_dna_size\", \"compression_ratio\", s=100, alpha=0.85, edgecolor=\"white\")\n",
    "g.add_legend(title='',bbox_to_anchor=(0.35, 0.95), loc=1, borderaxespad=0., labels=['Genuine User', 'Bot Account'])\n",
    "g.set_axis_labels('Original DNA Size', 'Compression Ratio')\n",
    "g.savefig('pan19_scatter.svg')"
   ]
  },
  {
   "cell_type": "code",
   "execution_count": 16,
   "metadata": {},
   "outputs": [
    {
     "data": {
      "text/plain": [
       "<AxesSubplot:xlabel='label', ylabel='compression_ratio'>"
      ]
     },
     "execution_count": 16,
     "metadata": {},
     "output_type": "execute_result"
    },
    {
     "data": {
      "image/png": "[encoded data removed]",
      "text/plain": [
       "<Figure size 432x288 with 1 Axes>"
      ]
     },
     "metadata": {},
     "output_type": "display_data"
    }
   ],
   "source": [
    "sns.boxplot(data=dna_compressed, x='label', y='compression_ratio', palette=pal, orient='v')"
   ]
  },
  {
   "cell_type": "code",
   "execution_count": 17,
   "metadata": {},
   "outputs": [
    {
     "data": {
      "image/png": "[encoded data removed]",
      "text/plain": [
       "<Figure size 360x360 with 1 Axes>"
      ]
     },
     "metadata": {},
     "output_type": "display_data"
    }
   ],
   "source": [
    "g = sns.FacetGrid(dna_compressed, hue='label', palette=pal, height=5)\n",
    "g.set(xlim=(0, 10))\n",
    "g.map(sns.kdeplot, 'compression_ratio')\n",
    "plt.legend(loc='upper right', frameon=False, title='',labels=['Genuine', 'Bot'])\n",
    "g.savefig('pan19_KDE.svg')"
   ]
  },
  {
   "cell_type": "markdown",
   "metadata": {},
   "source": [
    "#### Train, predict and evaluate"
   ]
  },
  {
   "cell_type": "code",
   "execution_count": 18,
   "metadata": {},
   "outputs": [],
   "source": [
    "def train_predict_evaluate(classifier, dna, features, test_size=0.5):\n",
    "    '''Train a Logistic Regression model with given features\n",
    "    using default parameters on a random sample of data.'''\n",
    "\n",
    "    # Randomly shuffle the dna dataframe.\n",
    "    dna = utils.shuffle(dna)\n",
    "\n",
    "    # Features and labels.\n",
    "    X = dna[features]\n",
    "    y = dna.loc[:, 'label']\n",
    "\n",
    "    # Split the dataset for training and testing using Logistic Regression.\n",
    "    X_train, X_test, y_train, y_test = train_test_split(X, y, test_size=test_size)\n",
    "\n",
    "    # Train the classifier.\n",
    "    start_train = time.time()\n",
    "    classifier.fit(X_train, y_train)\n",
    "    end_train = time.time()\n",
    "\n",
    "    # Make predictions on the test set.\n",
    "    start_test = time.time()\n",
    "    predictions = classifier.predict(X_test)\n",
    "    end_test = time.time()\n",
    "\n",
    "    # Evaluation on the test set.\n",
    "    results = evaluate(y_test, predictions)\n",
    "\n",
    "    return results"
   ]
  },
  {
   "cell_type": "code",
   "execution_count": 19,
   "metadata": {},
   "outputs": [],
   "source": [
    "def evaluate(y_test, predictions):\n",
    "    '''Return a dataframe with accuracy, precision, recall and f1 scores for predictions.'''\n",
    "    \n",
    "    tn, fp, fn, tp = confusion_matrix(y_test, predictions).ravel()\n",
    "    specificity = tn / (tn+fp)\n",
    "    \n",
    "    results = [\n",
    "        {\n",
    "            'Metric': 'Accuracy',\n",
    "            'Score': accuracy_score(y_test, predictions)\n",
    "        },\n",
    "        {\n",
    "            'Metric': 'Precision',\n",
    "            'Score': precision_score(y_test, predictions)\n",
    "        },\n",
    "        {\n",
    "            'Metric': 'Recall',\n",
    "            'Score': recall_score(y_test, predictions)\n",
    "        },\n",
    "        {\n",
    "            'Metric': 'F1 Score',\n",
    "            'Score': f1_score(y_test, predictions)\n",
    "        },\n",
    "        {\n",
    "            'Metric': 'MCC',\n",
    "            'Score': matthews_corrcoef(y_test, predictions)\n",
    "        },\n",
    "        {\n",
    "            'Metric': 'Specificity',\n",
    "            'Score': specificity\n",
    "        },\n",
    "    ]\n",
    "\n",
    "    return pd.DataFrame(results)"
   ]
  },
  {
   "cell_type": "markdown",
   "metadata": {},
   "source": [
    "#### Random forest classifier"
   ]
  },
  {
   "cell_type": "code",
   "execution_count": 20,
   "metadata": {},
   "outputs": [
    {
     "data": {
      "text/html": [
       "<div>\n",
       "<style scoped>\n",
       "    .dataframe tbody tr th:only-of-type {\n",
       "        vertical-align: middle;\n",
       "    }\n",
       "\n",
       "    .dataframe tbody tr th {\n",
       "        vertical-align: top;\n",
       "    }\n",
       "\n",
       "    .dataframe thead th {\n",
       "        text-align: right;\n",
       "    }\n",
       "</style>\n",
       "<table border=\"1\" class=\"dataframe\">\n",
       "  <thead>\n",
       "    <tr style=\"text-align: right;\">\n",
       "      <th></th>\n",
       "      <th>Metric</th>\n",
       "      <th>Score</th>\n",
       "    </tr>\n",
       "  </thead>\n",
       "  <tbody>\n",
       "    <tr>\n",
       "      <th>0</th>\n",
       "      <td>Accuracy</td>\n",
       "      <td>0.915680</td>\n",
       "    </tr>\n",
       "    <tr>\n",
       "      <th>1</th>\n",
       "      <td>Precision</td>\n",
       "      <td>0.955177</td>\n",
       "    </tr>\n",
       "    <tr>\n",
       "      <th>2</th>\n",
       "      <td>Recall</td>\n",
       "      <td>0.876086</td>\n",
       "    </tr>\n",
       "    <tr>\n",
       "      <th>3</th>\n",
       "      <td>F1 Score</td>\n",
       "      <td>0.913923</td>\n",
       "    </tr>\n",
       "    <tr>\n",
       "      <th>4</th>\n",
       "      <td>MCC</td>\n",
       "      <td>0.834577</td>\n",
       "    </tr>\n",
       "    <tr>\n",
       "      <th>5</th>\n",
       "      <td>Specificity</td>\n",
       "      <td>0.957048</td>\n",
       "    </tr>\n",
       "  </tbody>\n",
       "</table>\n",
       "</div>"
      ],
      "text/plain": [
       "        Metric     Score\n",
       "0     Accuracy  0.915680\n",
       "1    Precision  0.955177\n",
       "2       Recall  0.876086\n",
       "3     F1 Score  0.913923\n",
       "4          MCC  0.834577\n",
       "5  Specificity  0.957048"
      ]
     },
     "execution_count": 20,
     "metadata": {},
     "output_type": "execute_result"
    }
   ],
   "source": [
    "rf_classifier = RandomForestClassifier(bootstrap=True,max_depth=5)\n",
    "train_predict_evaluate(rf_classifier,dna_compressed,['original_dna_size', 'compressed_dna_size'])"
   ]
  },
  {
   "cell_type": "code",
   "execution_count": 21,
   "metadata": {},
   "outputs": [
    {
     "data": {
      "text/html": [
       "<div>\n",
       "<style scoped>\n",
       "    .dataframe tbody tr th:only-of-type {\n",
       "        vertical-align: middle;\n",
       "    }\n",
       "\n",
       "    .dataframe tbody tr th {\n",
       "        vertical-align: top;\n",
       "    }\n",
       "\n",
       "    .dataframe thead th {\n",
       "        text-align: right;\n",
       "    }\n",
       "</style>\n",
       "<table border=\"1\" class=\"dataframe\">\n",
       "  <thead>\n",
       "    <tr style=\"text-align: right;\">\n",
       "      <th></th>\n",
       "      <th>Metric</th>\n",
       "      <th>Score</th>\n",
       "    </tr>\n",
       "  </thead>\n",
       "  <tbody>\n",
       "    <tr>\n",
       "      <th>0</th>\n",
       "      <td>Accuracy</td>\n",
       "      <td>0.959172</td>\n",
       "    </tr>\n",
       "    <tr>\n",
       "      <th>1</th>\n",
       "      <td>Precision</td>\n",
       "      <td>0.964976</td>\n",
       "    </tr>\n",
       "    <tr>\n",
       "      <th>2</th>\n",
       "      <td>Recall</td>\n",
       "      <td>0.952324</td>\n",
       "    </tr>\n",
       "    <tr>\n",
       "      <th>3</th>\n",
       "      <td>F1 Score</td>\n",
       "      <td>0.958608</td>\n",
       "    </tr>\n",
       "    <tr>\n",
       "      <th>4</th>\n",
       "      <td>MCC</td>\n",
       "      <td>0.918409</td>\n",
       "    </tr>\n",
       "    <tr>\n",
       "      <th>5</th>\n",
       "      <td>Specificity</td>\n",
       "      <td>0.965922</td>\n",
       "    </tr>\n",
       "  </tbody>\n",
       "</table>\n",
       "</div>"
      ],
      "text/plain": [
       "        Metric     Score\n",
       "0     Accuracy  0.959172\n",
       "1    Precision  0.964976\n",
       "2       Recall  0.952324\n",
       "3     F1 Score  0.958608\n",
       "4          MCC  0.918409\n",
       "5  Specificity  0.965922"
      ]
     },
     "execution_count": 21,
     "metadata": {},
     "output_type": "execute_result"
    }
   ],
   "source": [
    "train_predict_evaluate(rf_classifier,dna_compressed,['original_dna_size', 'compression_ratio','mention',\n",
    "                                                    'URL', 'emoji'])"
   ]
  },
  {
   "cell_type": "markdown",
   "metadata": {},
   "source": [
    "#### Gradient booster classifier\n",
    "\n"
   ]
  },
  {
   "cell_type": "code",
   "execution_count": 22,
   "metadata": {},
   "outputs": [],
   "source": [
    "\n",
    "gb_classifier = GradientBoostingClassifier(n_estimators=100, learning_rate=1.0,\n",
    "    max_depth=1, random_state=0)\n"
   ]
  },
  {
   "cell_type": "code",
   "execution_count": 23,
   "metadata": {},
   "outputs": [
    {
     "data": {
      "text/html": [
       "<div>\n",
       "<style scoped>\n",
       "    .dataframe tbody tr th:only-of-type {\n",
       "        vertical-align: middle;\n",
       "    }\n",
       "\n",
       "    .dataframe tbody tr th {\n",
       "        vertical-align: top;\n",
       "    }\n",
       "\n",
       "    .dataframe thead th {\n",
       "        text-align: right;\n",
       "    }\n",
       "</style>\n",
       "<table border=\"1\" class=\"dataframe\">\n",
       "  <thead>\n",
       "    <tr style=\"text-align: right;\">\n",
       "      <th></th>\n",
       "      <th>Metric</th>\n",
       "      <th>Score</th>\n",
       "    </tr>\n",
       "  </thead>\n",
       "  <tbody>\n",
       "    <tr>\n",
       "      <th>0</th>\n",
       "      <td>Accuracy</td>\n",
       "      <td>0.913905</td>\n",
       "    </tr>\n",
       "    <tr>\n",
       "      <th>1</th>\n",
       "      <td>Precision</td>\n",
       "      <td>0.947897</td>\n",
       "    </tr>\n",
       "    <tr>\n",
       "      <th>2</th>\n",
       "      <td>Recall</td>\n",
       "      <td>0.878929</td>\n",
       "    </tr>\n",
       "    <tr>\n",
       "      <th>3</th>\n",
       "      <td>F1 Score</td>\n",
       "      <td>0.912111</td>\n",
       "    </tr>\n",
       "    <tr>\n",
       "      <th>4</th>\n",
       "      <td>MCC</td>\n",
       "      <td>0.830244</td>\n",
       "    </tr>\n",
       "    <tr>\n",
       "      <th>5</th>\n",
       "      <td>Specificity</td>\n",
       "      <td>0.950060</td>\n",
       "    </tr>\n",
       "  </tbody>\n",
       "</table>\n",
       "</div>"
      ],
      "text/plain": [
       "        Metric     Score\n",
       "0     Accuracy  0.913905\n",
       "1    Precision  0.947897\n",
       "2       Recall  0.878929\n",
       "3     F1 Score  0.912111\n",
       "4          MCC  0.830244\n",
       "5  Specificity  0.950060"
      ]
     },
     "execution_count": 23,
     "metadata": {},
     "output_type": "execute_result"
    }
   ],
   "source": [
    "train_predict_evaluate(gb_classifier,dna_compressed,['original_dna_size', 'compression_ratio'])"
   ]
  },
  {
   "cell_type": "code",
   "execution_count": 24,
   "metadata": {},
   "outputs": [
    {
     "data": {
      "text/html": [
       "<div>\n",
       "<style scoped>\n",
       "    .dataframe tbody tr th:only-of-type {\n",
       "        vertical-align: middle;\n",
       "    }\n",
       "\n",
       "    .dataframe tbody tr th {\n",
       "        vertical-align: top;\n",
       "    }\n",
       "\n",
       "    .dataframe thead th {\n",
       "        text-align: right;\n",
       "    }\n",
       "</style>\n",
       "<table border=\"1\" class=\"dataframe\">\n",
       "  <thead>\n",
       "    <tr style=\"text-align: right;\">\n",
       "      <th></th>\n",
       "      <th>Metric</th>\n",
       "      <th>Score</th>\n",
       "    </tr>\n",
       "  </thead>\n",
       "  <tbody>\n",
       "    <tr>\n",
       "      <th>0</th>\n",
       "      <td>Accuracy</td>\n",
       "      <td>0.950000</td>\n",
       "    </tr>\n",
       "    <tr>\n",
       "      <th>1</th>\n",
       "      <td>Precision</td>\n",
       "      <td>0.954869</td>\n",
       "    </tr>\n",
       "    <tr>\n",
       "      <th>2</th>\n",
       "      <td>Recall</td>\n",
       "      <td>0.945326</td>\n",
       "    </tr>\n",
       "    <tr>\n",
       "      <th>3</th>\n",
       "      <td>F1 Score</td>\n",
       "      <td>0.950074</td>\n",
       "    </tr>\n",
       "    <tr>\n",
       "      <th>4</th>\n",
       "      <td>MCC</td>\n",
       "      <td>0.900048</td>\n",
       "    </tr>\n",
       "    <tr>\n",
       "      <th>5</th>\n",
       "      <td>Specificity</td>\n",
       "      <td>0.954735</td>\n",
       "    </tr>\n",
       "  </tbody>\n",
       "</table>\n",
       "</div>"
      ],
      "text/plain": [
       "        Metric     Score\n",
       "0     Accuracy  0.950000\n",
       "1    Precision  0.954869\n",
       "2       Recall  0.945326\n",
       "3     F1 Score  0.950074\n",
       "4          MCC  0.900048\n",
       "5  Specificity  0.954735"
      ]
     },
     "execution_count": 24,
     "metadata": {},
     "output_type": "execute_result"
    }
   ],
   "source": [
    "train_predict_evaluate(gb_classifier,dna_compressed,['original_dna_size', 'compression_ratio','mention',\n",
    "                                                    'URL', 'emoji'])"
   ]
  }
 ],
 "metadata": {
  "kernelspec": {
   "display_name": "Python 3",
   "language": "python",
   "name": "python3"
  },
  "language_info": {
   "codemirror_mode": {
    "name": "ipython",
    "version": 3
   },
   "file_extension": ".py",
   "mimetype": "text/x-python",
   "name": "python",
   "nbconvert_exporter": "python",
   "pygments_lexer": "ipython3",
   "version": "3.9.9"
  }
 },
 "nbformat": 4,
 "nbformat_minor": 2
}
